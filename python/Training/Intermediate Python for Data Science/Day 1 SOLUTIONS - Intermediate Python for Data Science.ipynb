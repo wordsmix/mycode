{
 "cells": [
  {
   "cell_type": "markdown",
   "id": "c19b4d9e-8942-4214-bf7f-abef75c53331",
   "metadata": {},
   "source": [
    "<h1 style=\"color: #fcd805\">Exercise: Exploratory Data Analysis with pandas</h1>\n",
    "\n",
    "For the `pandas` exercises, you will gradually explore a new dataset of Kickstarter projects.\n",
    "\n",
    "Kickstarter is a site that lets you crowdfund your project ideas. The dataset shows information about such projects including whether they succeeded or failed.\n",
    "\n",
    "1. Read the file `kickstarter.csv.gz` from the `data` folder into a `pandas` `DataFrame` and inspect the data with the `.head` method.\n",
    "\n",
    "Note: the `.gz` ending indicates this is a *zipped* CSV file. This greatly reduces the file size without losing any data, and the file can be read in exactly like a CSV file (no need to do anything about the fact that it's zipped, `pandas` will handle it)."
   ]
  },
  {
   "cell_type": "code",
   "execution_count": 1,
   "id": "78b43ef5",
   "metadata": {},
   "outputs": [
    {
     "data": {
      "text/html": [
       "<div>\n",
       "<style scoped>\n",
       "    .dataframe tbody tr th:only-of-type {\n",
       "        vertical-align: middle;\n",
       "    }\n",
       "\n",
       "    .dataframe tbody tr th {\n",
       "        vertical-align: top;\n",
       "    }\n",
       "\n",
       "    .dataframe thead th {\n",
       "        text-align: right;\n",
       "    }\n",
       "</style>\n",
       "<table border=\"1\" class=\"dataframe\">\n",
       "  <thead>\n",
       "    <tr style=\"text-align: right;\">\n",
       "      <th></th>\n",
       "      <th>ID</th>\n",
       "      <th>name</th>\n",
       "      <th>subcategory</th>\n",
       "      <th>category</th>\n",
       "      <th>currency</th>\n",
       "      <th>deadline</th>\n",
       "      <th>goal</th>\n",
       "      <th>launched</th>\n",
       "      <th>pledged</th>\n",
       "      <th>state</th>\n",
       "      <th>backers</th>\n",
       "      <th>country</th>\n",
       "      <th>usd pledged</th>\n",
       "    </tr>\n",
       "  </thead>\n",
       "  <tbody>\n",
       "    <tr>\n",
       "      <th>0</th>\n",
       "      <td>1000002330</td>\n",
       "      <td>The Songs of Adelaide &amp; Abullah</td>\n",
       "      <td>Poetry</td>\n",
       "      <td>Publishing</td>\n",
       "      <td>GBP</td>\n",
       "      <td>2015-10-09</td>\n",
       "      <td>1000.0</td>\n",
       "      <td>2015-08-11 12:12:28</td>\n",
       "      <td>0.0</td>\n",
       "      <td>failed</td>\n",
       "      <td>0</td>\n",
       "      <td>GB</td>\n",
       "      <td>0.0</td>\n",
       "    </tr>\n",
       "    <tr>\n",
       "      <th>1</th>\n",
       "      <td>1000003930</td>\n",
       "      <td>Greeting From Earth: ZGAC Arts Capsule For ET</td>\n",
       "      <td>Narrative Film</td>\n",
       "      <td>Film &amp; Video</td>\n",
       "      <td>USD</td>\n",
       "      <td>2017-11-01</td>\n",
       "      <td>30000.0</td>\n",
       "      <td>2017-09-02 04:43:57</td>\n",
       "      <td>2421.0</td>\n",
       "      <td>failed</td>\n",
       "      <td>15</td>\n",
       "      <td>US</td>\n",
       "      <td>100.0</td>\n",
       "    </tr>\n",
       "    <tr>\n",
       "      <th>2</th>\n",
       "      <td>1000004038</td>\n",
       "      <td>Where is Hank?</td>\n",
       "      <td>Narrative Film</td>\n",
       "      <td>Film &amp; Video</td>\n",
       "      <td>USD</td>\n",
       "      <td>2013-02-26</td>\n",
       "      <td>45000.0</td>\n",
       "      <td>2013-01-12 00:20:50</td>\n",
       "      <td>220.0</td>\n",
       "      <td>failed</td>\n",
       "      <td>3</td>\n",
       "      <td>US</td>\n",
       "      <td>220.0</td>\n",
       "    </tr>\n",
       "    <tr>\n",
       "      <th>3</th>\n",
       "      <td>1000007540</td>\n",
       "      <td>ToshiCapital Rekordz Needs Help to Complete Album</td>\n",
       "      <td>Music</td>\n",
       "      <td>Music</td>\n",
       "      <td>USD</td>\n",
       "      <td>2012-04-16</td>\n",
       "      <td>5000.0</td>\n",
       "      <td>2012-03-17 03:24:11</td>\n",
       "      <td>1.0</td>\n",
       "      <td>failed</td>\n",
       "      <td>1</td>\n",
       "      <td>US</td>\n",
       "      <td>1.0</td>\n",
       "    </tr>\n",
       "    <tr>\n",
       "      <th>4</th>\n",
       "      <td>1000011046</td>\n",
       "      <td>Community Film Project: The Art of Neighborhoo...</td>\n",
       "      <td>Film &amp; Video</td>\n",
       "      <td>Film &amp; Video</td>\n",
       "      <td>USD</td>\n",
       "      <td>2015-08-29</td>\n",
       "      <td>19500.0</td>\n",
       "      <td>2015-07-04 08:35:03</td>\n",
       "      <td>1283.0</td>\n",
       "      <td>canceled</td>\n",
       "      <td>14</td>\n",
       "      <td>US</td>\n",
       "      <td>1283.0</td>\n",
       "    </tr>\n",
       "  </tbody>\n",
       "</table>\n",
       "</div>"
      ],
      "text/plain": [
       "           ID                                               name  \\\n",
       "0  1000002330                    The Songs of Adelaide & Abullah   \n",
       "1  1000003930      Greeting From Earth: ZGAC Arts Capsule For ET   \n",
       "2  1000004038                                     Where is Hank?   \n",
       "3  1000007540  ToshiCapital Rekordz Needs Help to Complete Album   \n",
       "4  1000011046  Community Film Project: The Art of Neighborhoo...   \n",
       "\n",
       "      subcategory      category currency    deadline     goal  \\\n",
       "0          Poetry    Publishing      GBP  2015-10-09   1000.0   \n",
       "1  Narrative Film  Film & Video      USD  2017-11-01  30000.0   \n",
       "2  Narrative Film  Film & Video      USD  2013-02-26  45000.0   \n",
       "3           Music         Music      USD  2012-04-16   5000.0   \n",
       "4    Film & Video  Film & Video      USD  2015-08-29  19500.0   \n",
       "\n",
       "              launched  pledged     state  backers country  usd pledged  \n",
       "0  2015-08-11 12:12:28      0.0    failed        0      GB          0.0  \n",
       "1  2017-09-02 04:43:57   2421.0    failed       15      US        100.0  \n",
       "2  2013-01-12 00:20:50    220.0    failed        3      US        220.0  \n",
       "3  2012-03-17 03:24:11      1.0    failed        1      US          1.0  \n",
       "4  2015-07-04 08:35:03   1283.0  canceled       14      US       1283.0  "
      ]
     },
     "execution_count": 1,
     "metadata": {},
     "output_type": "execute_result"
    }
   ],
   "source": [
    "import pandas as pd\n",
    "\n",
    "kickstarter = pd.read_csv(\"./data/kickstarter.csv.gz\")\n",
    "\n",
    "kickstarter.head()"
   ]
  },
  {
   "cell_type": "markdown",
   "id": "496a9d43",
   "metadata": {},
   "source": [
    "2. How many rows and columns are there?"
   ]
  },
  {
   "cell_type": "code",
   "execution_count": 2,
   "id": "ea000f78",
   "metadata": {},
   "outputs": [
    {
     "data": {
      "text/plain": [
       "(378661, 13)"
      ]
     },
     "execution_count": 2,
     "metadata": {},
     "output_type": "execute_result"
    }
   ],
   "source": [
    "kickstarter.shape"
   ]
  },
  {
   "cell_type": "markdown",
   "id": "2e7896ac",
   "metadata": {},
   "source": [
    "3. Check the data type of each column. Do any of them look incorrect?"
   ]
  },
  {
   "cell_type": "code",
   "execution_count": 3,
   "id": "e3e4d22f",
   "metadata": {},
   "outputs": [
    {
     "data": {
      "text/plain": [
       "ID               int64\n",
       "name            object\n",
       "subcategory     object\n",
       "category        object\n",
       "currency        object\n",
       "deadline        object\n",
       "goal           float64\n",
       "launched        object\n",
       "pledged        float64\n",
       "state           object\n",
       "backers          int64\n",
       "country         object\n",
       "usd pledged    float64\n",
       "dtype: object"
      ]
     },
     "execution_count": 3,
     "metadata": {},
     "output_type": "execute_result"
    }
   ],
   "source": [
    "kickstarter.dtypes"
   ]
  },
  {
   "cell_type": "markdown",
   "id": "78be740e",
   "metadata": {},
   "source": [
    "_Looks good apart from string columns being \"object\" by default and dates not converted automatically_"
   ]
  },
  {
   "cell_type": "markdown",
   "id": "47abb3a0",
   "metadata": {},
   "source": [
    "4. Are there any missing values? If so, what should be done about them?"
   ]
  },
  {
   "cell_type": "code",
   "execution_count": 4,
   "id": "28470983",
   "metadata": {},
   "outputs": [
    {
     "data": {
      "text/plain": [
       "ID                0\n",
       "name              4\n",
       "subcategory       0\n",
       "category          0\n",
       "currency          0\n",
       "deadline          0\n",
       "goal              0\n",
       "launched          0\n",
       "pledged           0\n",
       "state             0\n",
       "backers           0\n",
       "country           0\n",
       "usd pledged    3797\n",
       "dtype: int64"
      ]
     },
     "execution_count": 4,
     "metadata": {},
     "output_type": "execute_result"
    }
   ],
   "source": [
    "kickstarter.isnull().sum()"
   ]
  },
  {
   "cell_type": "markdown",
   "id": "719bf277",
   "metadata": {},
   "source": [
    "_4 names missing and many USD conversions of the pledged column missing. Depending on whether our analysis hinges on the name of a project, we could keep/delete those 4 records. The USD pledged one is only missing 1% and, again, dropping it depends on whether the column is important for our analysis_"
   ]
  },
  {
   "cell_type": "markdown",
   "id": "8ee02af7",
   "metadata": {},
   "source": [
    "5. Create a new column to calculate the percentage of the goal that was achieved. This should be the amount pledged as a percentage of the goal."
   ]
  },
  {
   "cell_type": "code",
   "execution_count": 5,
   "id": "29aee063",
   "metadata": {},
   "outputs": [
    {
     "data": {
      "text/html": [
       "<div>\n",
       "<style scoped>\n",
       "    .dataframe tbody tr th:only-of-type {\n",
       "        vertical-align: middle;\n",
       "    }\n",
       "\n",
       "    .dataframe tbody tr th {\n",
       "        vertical-align: top;\n",
       "    }\n",
       "\n",
       "    .dataframe thead th {\n",
       "        text-align: right;\n",
       "    }\n",
       "</style>\n",
       "<table border=\"1\" class=\"dataframe\">\n",
       "  <thead>\n",
       "    <tr style=\"text-align: right;\">\n",
       "      <th></th>\n",
       "      <th>ID</th>\n",
       "      <th>name</th>\n",
       "      <th>subcategory</th>\n",
       "      <th>category</th>\n",
       "      <th>currency</th>\n",
       "      <th>deadline</th>\n",
       "      <th>goal</th>\n",
       "      <th>launched</th>\n",
       "      <th>pledged</th>\n",
       "      <th>state</th>\n",
       "      <th>backers</th>\n",
       "      <th>country</th>\n",
       "      <th>usd pledged</th>\n",
       "      <th>pct_goal_achieved</th>\n",
       "    </tr>\n",
       "  </thead>\n",
       "  <tbody>\n",
       "    <tr>\n",
       "      <th>0</th>\n",
       "      <td>1000002330</td>\n",
       "      <td>The Songs of Adelaide &amp; Abullah</td>\n",
       "      <td>Poetry</td>\n",
       "      <td>Publishing</td>\n",
       "      <td>GBP</td>\n",
       "      <td>2015-10-09</td>\n",
       "      <td>1000.0</td>\n",
       "      <td>2015-08-11 12:12:28</td>\n",
       "      <td>0.0</td>\n",
       "      <td>failed</td>\n",
       "      <td>0</td>\n",
       "      <td>GB</td>\n",
       "      <td>0.0</td>\n",
       "      <td>0.000000</td>\n",
       "    </tr>\n",
       "    <tr>\n",
       "      <th>1</th>\n",
       "      <td>1000003930</td>\n",
       "      <td>Greeting From Earth: ZGAC Arts Capsule For ET</td>\n",
       "      <td>Narrative Film</td>\n",
       "      <td>Film &amp; Video</td>\n",
       "      <td>USD</td>\n",
       "      <td>2017-11-01</td>\n",
       "      <td>30000.0</td>\n",
       "      <td>2017-09-02 04:43:57</td>\n",
       "      <td>2421.0</td>\n",
       "      <td>failed</td>\n",
       "      <td>15</td>\n",
       "      <td>US</td>\n",
       "      <td>100.0</td>\n",
       "      <td>0.080700</td>\n",
       "    </tr>\n",
       "    <tr>\n",
       "      <th>2</th>\n",
       "      <td>1000004038</td>\n",
       "      <td>Where is Hank?</td>\n",
       "      <td>Narrative Film</td>\n",
       "      <td>Film &amp; Video</td>\n",
       "      <td>USD</td>\n",
       "      <td>2013-02-26</td>\n",
       "      <td>45000.0</td>\n",
       "      <td>2013-01-12 00:20:50</td>\n",
       "      <td>220.0</td>\n",
       "      <td>failed</td>\n",
       "      <td>3</td>\n",
       "      <td>US</td>\n",
       "      <td>220.0</td>\n",
       "      <td>0.004889</td>\n",
       "    </tr>\n",
       "    <tr>\n",
       "      <th>3</th>\n",
       "      <td>1000007540</td>\n",
       "      <td>ToshiCapital Rekordz Needs Help to Complete Album</td>\n",
       "      <td>Music</td>\n",
       "      <td>Music</td>\n",
       "      <td>USD</td>\n",
       "      <td>2012-04-16</td>\n",
       "      <td>5000.0</td>\n",
       "      <td>2012-03-17 03:24:11</td>\n",
       "      <td>1.0</td>\n",
       "      <td>failed</td>\n",
       "      <td>1</td>\n",
       "      <td>US</td>\n",
       "      <td>1.0</td>\n",
       "      <td>0.000200</td>\n",
       "    </tr>\n",
       "    <tr>\n",
       "      <th>4</th>\n",
       "      <td>1000011046</td>\n",
       "      <td>Community Film Project: The Art of Neighborhoo...</td>\n",
       "      <td>Film &amp; Video</td>\n",
       "      <td>Film &amp; Video</td>\n",
       "      <td>USD</td>\n",
       "      <td>2015-08-29</td>\n",
       "      <td>19500.0</td>\n",
       "      <td>2015-07-04 08:35:03</td>\n",
       "      <td>1283.0</td>\n",
       "      <td>canceled</td>\n",
       "      <td>14</td>\n",
       "      <td>US</td>\n",
       "      <td>1283.0</td>\n",
       "      <td>0.065795</td>\n",
       "    </tr>\n",
       "  </tbody>\n",
       "</table>\n",
       "</div>"
      ],
      "text/plain": [
       "           ID                                               name  \\\n",
       "0  1000002330                    The Songs of Adelaide & Abullah   \n",
       "1  1000003930      Greeting From Earth: ZGAC Arts Capsule For ET   \n",
       "2  1000004038                                     Where is Hank?   \n",
       "3  1000007540  ToshiCapital Rekordz Needs Help to Complete Album   \n",
       "4  1000011046  Community Film Project: The Art of Neighborhoo...   \n",
       "\n",
       "      subcategory      category currency    deadline     goal  \\\n",
       "0          Poetry    Publishing      GBP  2015-10-09   1000.0   \n",
       "1  Narrative Film  Film & Video      USD  2017-11-01  30000.0   \n",
       "2  Narrative Film  Film & Video      USD  2013-02-26  45000.0   \n",
       "3           Music         Music      USD  2012-04-16   5000.0   \n",
       "4    Film & Video  Film & Video      USD  2015-08-29  19500.0   \n",
       "\n",
       "              launched  pledged     state  backers country  usd pledged  \\\n",
       "0  2015-08-11 12:12:28      0.0    failed        0      GB          0.0   \n",
       "1  2017-09-02 04:43:57   2421.0    failed       15      US        100.0   \n",
       "2  2013-01-12 00:20:50    220.0    failed        3      US        220.0   \n",
       "3  2012-03-17 03:24:11      1.0    failed        1      US          1.0   \n",
       "4  2015-07-04 08:35:03   1283.0  canceled       14      US       1283.0   \n",
       "\n",
       "   pct_goal_achieved  \n",
       "0           0.000000  \n",
       "1           0.080700  \n",
       "2           0.004889  \n",
       "3           0.000200  \n",
       "4           0.065795  "
      ]
     },
     "execution_count": 5,
     "metadata": {},
     "output_type": "execute_result"
    }
   ],
   "source": [
    "kickstarter[\"pct_goal_achieved\"] = kickstarter[\"pledged\"] / kickstarter[\"goal\"]\n",
    "\n",
    "kickstarter.head()"
   ]
  },
  {
   "cell_type": "markdown",
   "id": "9fd4d798",
   "metadata": {},
   "source": [
    "6. Drop the `usd pledged` column as it has some incorrect values in it."
   ]
  },
  {
   "cell_type": "code",
   "execution_count": 6,
   "id": "86157903",
   "metadata": {},
   "outputs": [],
   "source": [
    "kickstarter = kickstarter.drop(columns=[\"usd pledged\"])"
   ]
  },
  {
   "cell_type": "markdown",
   "id": "7d33d53f",
   "metadata": {},
   "source": [
    "7. Convert the `name` column to the `string` type."
   ]
  },
  {
   "cell_type": "code",
   "execution_count": 7,
   "id": "a26d73c2",
   "metadata": {},
   "outputs": [],
   "source": [
    "kickstarter[\"name\"] = kickstarter[\"name\"].astype(\"string\")"
   ]
  },
  {
   "cell_type": "markdown",
   "id": "ae34b1e5",
   "metadata": {},
   "source": [
    "8. How many categories are there in the data, and what are they?"
   ]
  },
  {
   "cell_type": "code",
   "execution_count": 8,
   "id": "3307d27d",
   "metadata": {},
   "outputs": [
    {
     "data": {
      "text/plain": [
       "15"
      ]
     },
     "execution_count": 8,
     "metadata": {},
     "output_type": "execute_result"
    }
   ],
   "source": [
    "kickstarter[\"category\"].nunique()"
   ]
  },
  {
   "cell_type": "code",
   "execution_count": 9,
   "id": "023753c6",
   "metadata": {},
   "outputs": [
    {
     "data": {
      "text/plain": [
       "array(['Publishing', 'Film & Video', 'Music', 'Food', 'Design', 'Crafts',\n",
       "       'Games', 'Comics', 'Fashion', 'Theater', 'Art', 'Photography',\n",
       "       'Technology', 'Dance', 'Journalism'], dtype=object)"
      ]
     },
     "execution_count": 9,
     "metadata": {},
     "output_type": "execute_result"
    }
   ],
   "source": [
    "kickstarter[\"category\"].unique()"
   ]
  },
  {
   "cell_type": "markdown",
   "id": "4822f907",
   "metadata": {},
   "source": [
    "<h1 style=\"color: #fcd805\">Exercise: Filtering and Descriptive Statistics</h1>\n",
    "\n",
    "We're going to continue working on the Kickstarter data from the previous exercise.\n",
    "\n",
    "1. How many projects are in the Music category?"
   ]
  },
  {
   "cell_type": "code",
   "execution_count": 10,
   "id": "bd1cdeca",
   "metadata": {},
   "outputs": [
    {
     "data": {
      "text/plain": [
       "51918"
      ]
     },
     "execution_count": 10,
     "metadata": {},
     "output_type": "execute_result"
    }
   ],
   "source": [
    "music = kickstarter[kickstarter[\"category\"] == \"Music\"]\n",
    "len(music)"
   ]
  },
  {
   "cell_type": "markdown",
   "id": "4ee00813",
   "metadata": {},
   "source": [
    "2. How many projects in the Music category *succeeded*?"
   ]
  },
  {
   "cell_type": "code",
   "execution_count": 11,
   "id": "68b8c0a5",
   "metadata": {},
   "outputs": [
    {
     "data": {
      "text/plain": [
       "24197"
      ]
     },
     "execution_count": 11,
     "metadata": {},
     "output_type": "execute_result"
    }
   ],
   "source": [
    "music_success = music[music[\"state\"] == \"successful\"]\n",
    "len(music_success)"
   ]
  },
  {
   "cell_type": "markdown",
   "id": "babef8be",
   "metadata": {},
   "source": [
    "3. How many projects in the Music category contain the word \"song\"?"
   ]
  },
  {
   "cell_type": "code",
   "execution_count": 12,
   "id": "de43a9fc",
   "metadata": {},
   "outputs": [
    {
     "data": {
      "text/plain": [
       "1612"
      ]
     },
     "execution_count": 12,
     "metadata": {},
     "output_type": "execute_result"
    }
   ],
   "source": [
    "music_songs = music[music[\"name\"].str.lower().str.contains(\"song\")]\n",
    "len(music_songs)"
   ]
  },
  {
   "cell_type": "markdown",
   "id": "9ec70779",
   "metadata": {},
   "source": [
    "4. How many projects are in the Music and Film & Video categories in total?"
   ]
  },
  {
   "cell_type": "code",
   "execution_count": 13,
   "id": "97aeda62",
   "metadata": {},
   "outputs": [
    {
     "data": {
      "text/plain": [
       "115503"
      ]
     },
     "execution_count": 13,
     "metadata": {},
     "output_type": "execute_result"
    }
   ],
   "source": [
    "music_and_film = kickstarter[(kickstarter[\"category\"] == \"Music\") | (kickstarter[\"category\"] == \"Film & Video\")]\n",
    "len(music_and_film)"
   ]
  },
  {
   "cell_type": "markdown",
   "id": "240f41a8",
   "metadata": {},
   "source": [
    "_We could also use `.isin()` to see if the category is in a certain list of values_"
   ]
  },
  {
   "cell_type": "code",
   "execution_count": 14,
   "id": "6c60f43c",
   "metadata": {},
   "outputs": [
    {
     "data": {
      "text/plain": [
       "115503"
      ]
     },
     "execution_count": 14,
     "metadata": {},
     "output_type": "execute_result"
    }
   ],
   "source": [
    "len(kickstarter[kickstarter[\"category\"].isin([\"Music\", \"Film & Video\"])])"
   ]
  },
  {
   "cell_type": "markdown",
   "id": "d7c0f65a",
   "metadata": {},
   "source": [
    "5. What are the smallest and biggest goals in the dataset?"
   ]
  },
  {
   "cell_type": "code",
   "execution_count": 15,
   "id": "f23ca6f9",
   "metadata": {},
   "outputs": [
    {
     "data": {
      "text/html": [
       "<div>\n",
       "<style scoped>\n",
       "    .dataframe tbody tr th:only-of-type {\n",
       "        vertical-align: middle;\n",
       "    }\n",
       "\n",
       "    .dataframe tbody tr th {\n",
       "        vertical-align: top;\n",
       "    }\n",
       "\n",
       "    .dataframe thead th {\n",
       "        text-align: right;\n",
       "    }\n",
       "</style>\n",
       "<table border=\"1\" class=\"dataframe\">\n",
       "  <thead>\n",
       "    <tr style=\"text-align: right;\">\n",
       "      <th></th>\n",
       "      <th>ID</th>\n",
       "      <th>name</th>\n",
       "      <th>subcategory</th>\n",
       "      <th>category</th>\n",
       "      <th>currency</th>\n",
       "      <th>deadline</th>\n",
       "      <th>goal</th>\n",
       "      <th>launched</th>\n",
       "      <th>pledged</th>\n",
       "      <th>state</th>\n",
       "      <th>backers</th>\n",
       "      <th>country</th>\n",
       "      <th>pct_goal_achieved</th>\n",
       "    </tr>\n",
       "  </thead>\n",
       "  <tbody>\n",
       "    <tr>\n",
       "      <th>304489</th>\n",
       "      <td>620302213</td>\n",
       "      <td>LOVELAND Round 6: A Force More Powerful</td>\n",
       "      <td>Conceptual Art</td>\n",
       "      <td>Art</td>\n",
       "      <td>USD</td>\n",
       "      <td>2009-12-04</td>\n",
       "      <td>0.01</td>\n",
       "      <td>2009-11-25 07:54:49</td>\n",
       "      <td>100.0</td>\n",
       "      <td>successful</td>\n",
       "      <td>6</td>\n",
       "      <td>US</td>\n",
       "      <td>10000.0</td>\n",
       "    </tr>\n",
       "    <tr>\n",
       "      <th>317771</th>\n",
       "      <td>688564643</td>\n",
       "      <td>Word-of-mouth publishing: get \"Corruptions\" ou...</td>\n",
       "      <td>Fiction</td>\n",
       "      <td>Publishing</td>\n",
       "      <td>USD</td>\n",
       "      <td>2011-12-13</td>\n",
       "      <td>0.01</td>\n",
       "      <td>2011-11-07 16:46:52</td>\n",
       "      <td>0.0</td>\n",
       "      <td>canceled</td>\n",
       "      <td>0</td>\n",
       "      <td>US</td>\n",
       "      <td>0.0</td>\n",
       "    </tr>\n",
       "    <tr>\n",
       "      <th>370401</th>\n",
       "      <td>9572984</td>\n",
       "      <td>Nana</td>\n",
       "      <td>Shorts</td>\n",
       "      <td>Film &amp; Video</td>\n",
       "      <td>USD</td>\n",
       "      <td>2012-03-16</td>\n",
       "      <td>0.15</td>\n",
       "      <td>2012-01-25 07:23:19</td>\n",
       "      <td>0.0</td>\n",
       "      <td>failed</td>\n",
       "      <td>0</td>\n",
       "      <td>US</td>\n",
       "      <td>0.0</td>\n",
       "    </tr>\n",
       "    <tr>\n",
       "      <th>226171</th>\n",
       "      <td>219760504</td>\n",
       "      <td>RocknRoll NoisePollution</td>\n",
       "      <td>Documentary</td>\n",
       "      <td>Film &amp; Video</td>\n",
       "      <td>USD</td>\n",
       "      <td>2011-07-19</td>\n",
       "      <td>0.50</td>\n",
       "      <td>2011-07-12 15:59:39</td>\n",
       "      <td>0.0</td>\n",
       "      <td>failed</td>\n",
       "      <td>0</td>\n",
       "      <td>US</td>\n",
       "      <td>0.0</td>\n",
       "    </tr>\n",
       "    <tr>\n",
       "      <th>12236</th>\n",
       "      <td>1061341578</td>\n",
       "      <td>???? - Bulgaria Songbook</td>\n",
       "      <td>Music</td>\n",
       "      <td>Music</td>\n",
       "      <td>USD</td>\n",
       "      <td>2015-11-23</td>\n",
       "      <td>1.00</td>\n",
       "      <td>2015-10-22 17:47:51</td>\n",
       "      <td>45.0</td>\n",
       "      <td>successful</td>\n",
       "      <td>4</td>\n",
       "      <td>US</td>\n",
       "      <td>45.0</td>\n",
       "    </tr>\n",
       "  </tbody>\n",
       "</table>\n",
       "</div>"
      ],
      "text/plain": [
       "                ID                                               name  \\\n",
       "304489   620302213            LOVELAND Round 6: A Force More Powerful   \n",
       "317771   688564643  Word-of-mouth publishing: get \"Corruptions\" ou...   \n",
       "370401     9572984                                               Nana   \n",
       "226171   219760504                           RocknRoll NoisePollution   \n",
       "12236   1061341578                           ???? - Bulgaria Songbook   \n",
       "\n",
       "           subcategory      category currency    deadline  goal  \\\n",
       "304489  Conceptual Art           Art      USD  2009-12-04  0.01   \n",
       "317771         Fiction    Publishing      USD  2011-12-13  0.01   \n",
       "370401          Shorts  Film & Video      USD  2012-03-16  0.15   \n",
       "226171     Documentary  Film & Video      USD  2011-07-19  0.50   \n",
       "12236            Music         Music      USD  2015-11-23  1.00   \n",
       "\n",
       "                   launched  pledged       state  backers country  \\\n",
       "304489  2009-11-25 07:54:49    100.0  successful        6      US   \n",
       "317771  2011-11-07 16:46:52      0.0    canceled        0      US   \n",
       "370401  2012-01-25 07:23:19      0.0      failed        0      US   \n",
       "226171  2011-07-12 15:59:39      0.0      failed        0      US   \n",
       "12236   2015-10-22 17:47:51     45.0  successful        4      US   \n",
       "\n",
       "        pct_goal_achieved  \n",
       "304489            10000.0  \n",
       "317771                0.0  \n",
       "370401                0.0  \n",
       "226171                0.0  \n",
       "12236                45.0  "
      ]
     },
     "execution_count": 15,
     "metadata": {},
     "output_type": "execute_result"
    }
   ],
   "source": [
    "kickstarter.sort_values(by=\"goal\", ascending=True).head()"
   ]
  },
  {
   "cell_type": "code",
   "execution_count": 16,
   "id": "b0a96117",
   "metadata": {},
   "outputs": [
    {
     "data": {
      "text/html": [
       "<div>\n",
       "<style scoped>\n",
       "    .dataframe tbody tr th:only-of-type {\n",
       "        vertical-align: middle;\n",
       "    }\n",
       "\n",
       "    .dataframe tbody tr th {\n",
       "        vertical-align: top;\n",
       "    }\n",
       "\n",
       "    .dataframe thead th {\n",
       "        text-align: right;\n",
       "    }\n",
       "</style>\n",
       "<table border=\"1\" class=\"dataframe\">\n",
       "  <thead>\n",
       "    <tr style=\"text-align: right;\">\n",
       "      <th></th>\n",
       "      <th>ID</th>\n",
       "      <th>name</th>\n",
       "      <th>subcategory</th>\n",
       "      <th>category</th>\n",
       "      <th>currency</th>\n",
       "      <th>deadline</th>\n",
       "      <th>goal</th>\n",
       "      <th>launched</th>\n",
       "      <th>pledged</th>\n",
       "      <th>state</th>\n",
       "      <th>backers</th>\n",
       "      <th>country</th>\n",
       "      <th>pct_goal_achieved</th>\n",
       "    </tr>\n",
       "  </thead>\n",
       "  <tbody>\n",
       "    <tr>\n",
       "      <th>348139</th>\n",
       "      <td>843636303</td>\n",
       "      <td>The Exodus, one Ark or many.</td>\n",
       "      <td>Documentary</td>\n",
       "      <td>Film &amp; Video</td>\n",
       "      <td>USD</td>\n",
       "      <td>2016-08-16</td>\n",
       "      <td>100000000.0</td>\n",
       "      <td>2016-06-17 17:20:52</td>\n",
       "      <td>14.0</td>\n",
       "      <td>failed</td>\n",
       "      <td>5</td>\n",
       "      <td>US</td>\n",
       "      <td>1.400000e-07</td>\n",
       "    </tr>\n",
       "    <tr>\n",
       "      <th>367928</th>\n",
       "      <td>944541075</td>\n",
       "      <td>Hydroponic's Skyscraper(un gratte-ciel hydropo...</td>\n",
       "      <td>Technology</td>\n",
       "      <td>Technology</td>\n",
       "      <td>EUR</td>\n",
       "      <td>2015-10-24</td>\n",
       "      <td>100000000.0</td>\n",
       "      <td>2015-08-25 23:52:30</td>\n",
       "      <td>2.0</td>\n",
       "      <td>failed</td>\n",
       "      <td>2</td>\n",
       "      <td>FR</td>\n",
       "      <td>2.000000e-08</td>\n",
       "    </tr>\n",
       "    <tr>\n",
       "      <th>118402</th>\n",
       "      <td>1601563193</td>\n",
       "      <td>Our future</td>\n",
       "      <td>Space Exploration</td>\n",
       "      <td>Technology</td>\n",
       "      <td>AUD</td>\n",
       "      <td>2014-10-07</td>\n",
       "      <td>100000000.0</td>\n",
       "      <td>2014-08-08 19:05:39</td>\n",
       "      <td>1.0</td>\n",
       "      <td>failed</td>\n",
       "      <td>1</td>\n",
       "      <td>AU</td>\n",
       "      <td>1.000000e-08</td>\n",
       "    </tr>\n",
       "    <tr>\n",
       "      <th>300797</th>\n",
       "      <td>601594365</td>\n",
       "      <td>The Multi-Trillion Dollar Dreamâ¢ (Canceled)</td>\n",
       "      <td>Architecture</td>\n",
       "      <td>Design</td>\n",
       "      <td>USD</td>\n",
       "      <td>2015-03-02</td>\n",
       "      <td>100000000.0</td>\n",
       "      <td>2015-01-07 19:11:05</td>\n",
       "      <td>1.0</td>\n",
       "      <td>canceled</td>\n",
       "      <td>1</td>\n",
       "      <td>US</td>\n",
       "      <td>1.000000e-08</td>\n",
       "    </tr>\n",
       "    <tr>\n",
       "      <th>55009</th>\n",
       "      <td>1279992058</td>\n",
       "      <td>Kybernan Holographic Gaming Network</td>\n",
       "      <td>Video Games</td>\n",
       "      <td>Games</td>\n",
       "      <td>USD</td>\n",
       "      <td>2016-01-01</td>\n",
       "      <td>100000000.0</td>\n",
       "      <td>2015-11-07 00:57:17</td>\n",
       "      <td>13.0</td>\n",
       "      <td>failed</td>\n",
       "      <td>4</td>\n",
       "      <td>US</td>\n",
       "      <td>1.300000e-07</td>\n",
       "    </tr>\n",
       "  </tbody>\n",
       "</table>\n",
       "</div>"
      ],
      "text/plain": [
       "                ID                                               name  \\\n",
       "348139   843636303                       The Exodus, one Ark or many.   \n",
       "367928   944541075  Hydroponic's Skyscraper(un gratte-ciel hydropo...   \n",
       "118402  1601563193                                         Our future   \n",
       "300797   601594365      The Multi-Trillion Dollar Dreamâ¢ (Canceled)   \n",
       "55009   1279992058                Kybernan Holographic Gaming Network   \n",
       "\n",
       "              subcategory      category currency    deadline         goal  \\\n",
       "348139        Documentary  Film & Video      USD  2016-08-16  100000000.0   \n",
       "367928         Technology    Technology      EUR  2015-10-24  100000000.0   \n",
       "118402  Space Exploration    Technology      AUD  2014-10-07  100000000.0   \n",
       "300797       Architecture        Design      USD  2015-03-02  100000000.0   \n",
       "55009         Video Games         Games      USD  2016-01-01  100000000.0   \n",
       "\n",
       "                   launched  pledged     state  backers country  \\\n",
       "348139  2016-06-17 17:20:52     14.0    failed        5      US   \n",
       "367928  2015-08-25 23:52:30      2.0    failed        2      FR   \n",
       "118402  2014-08-08 19:05:39      1.0    failed        1      AU   \n",
       "300797  2015-01-07 19:11:05      1.0  canceled        1      US   \n",
       "55009   2015-11-07 00:57:17     13.0    failed        4      US   \n",
       "\n",
       "        pct_goal_achieved  \n",
       "348139       1.400000e-07  \n",
       "367928       2.000000e-08  \n",
       "118402       1.000000e-08  \n",
       "300797       1.000000e-08  \n",
       "55009        1.300000e-07  "
      ]
     },
     "execution_count": 16,
     "metadata": {},
     "output_type": "execute_result"
    }
   ],
   "source": [
    "kickstarter.sort_values(by=\"goal\", ascending=False).head()"
   ]
  },
  {
   "cell_type": "markdown",
   "id": "ae243ad8",
   "metadata": {},
   "source": [
    "6. What is the average number of backers a project received?"
   ]
  },
  {
   "cell_type": "code",
   "execution_count": 17,
   "id": "27bb30d7",
   "metadata": {},
   "outputs": [
    {
     "name": "stdout",
     "output_type": "stream",
     "text": [
      "105.61747578969052 12.0\n"
     ]
    }
   ],
   "source": [
    "print(kickstarter[\"backers\"].mean(), kickstarter[\"backers\"].median())"
   ]
  },
  {
   "cell_type": "markdown",
   "id": "c217d855",
   "metadata": {},
   "source": [
    "7. What is the average number of backers that *successful* projects received?\n",
    "\n",
    "_Hint: Think about the order of operations of how to answer this. What do you need to do first?_"
   ]
  },
  {
   "cell_type": "code",
   "execution_count": 18,
   "id": "a5d999e1",
   "metadata": {},
   "outputs": [
    {
     "name": "stdout",
     "output_type": "stream",
     "text": [
      "263.92136223834694 71.0\n"
     ]
    }
   ],
   "source": [
    "success = kickstarter[kickstarter[\"state\"] == \"successful\"]\n",
    "print(success[\"backers\"].mean(), success[\"backers\"].median())"
   ]
  },
  {
   "cell_type": "markdown",
   "id": "ff1835d6",
   "metadata": {},
   "source": [
    "_You can also use `.loc` for this to do both filtering and selecting a single column_"
   ]
  },
  {
   "cell_type": "code",
   "execution_count": 19,
   "id": "a80e4c89",
   "metadata": {},
   "outputs": [
    {
     "data": {
      "text/plain": [
       "263.92136223834694"
      ]
     },
     "execution_count": 19,
     "metadata": {},
     "output_type": "execute_result"
    }
   ],
   "source": [
    "kickstarter.loc[kickstarter[\"state\"] == \"successful\", \"backers\"].mean()"
   ]
  },
  {
   "cell_type": "markdown",
   "id": "8799a000",
   "metadata": {},
   "source": [
    "<h1 style=\"color: #fcd805\">Exercise: Sorting and Aggregating</h1>\n",
    "\n",
    "Back to the Kickstarter data.\n",
    "\n",
    "1. What is the **total** amount pledged for songs *by category*?\n",
    "\n",
    "You want to end up with a dataset of one line per category, showing the total pledged amount for each category."
   ]
  },
  {
   "cell_type": "code",
   "execution_count": 20,
   "id": "79eaf3b1",
   "metadata": {},
   "outputs": [
    {
     "data": {
      "text/plain": [
       "category\n",
       "Art             1.015470e+08\n",
       "Comics          7.464365e+07\n",
       "Crafts          1.776030e+07\n",
       "Dance           1.390693e+07\n",
       "Design          8.154909e+08\n",
       "Fashion         1.494227e+08\n",
       "Film & Video    4.045744e+08\n",
       "Food            1.313787e+08\n",
       "Games           7.703319e+08\n",
       "Journalism      1.530200e+07\n",
       "Music           2.072948e+08\n",
       "Photography     3.950123e+07\n",
       "Publishing      1.450902e+08\n",
       "Technology      7.356088e+08\n",
       "Theater         4.471301e+07\n",
       "Name: pledged, dtype: float64"
      ]
     },
     "execution_count": 20,
     "metadata": {},
     "output_type": "execute_result"
    }
   ],
   "source": [
    "kickstarter.groupby(\"category\")[\"pledged\"].sum()"
   ]
  },
  {
   "cell_type": "markdown",
   "id": "72e95edd",
   "metadata": {},
   "source": [
    "_A few ways to get around scientific notation. One is to round to 0 d.p. (the other options involve changing global `pandas` settings)_"
   ]
  },
  {
   "cell_type": "code",
   "execution_count": 21,
   "id": "5d5a0ccc",
   "metadata": {},
   "outputs": [
    {
     "data": {
      "text/plain": [
       "category\n",
       "Art             101547028.0\n",
       "Comics           74643648.0\n",
       "Crafts           17760300.0\n",
       "Dance            13906929.0\n",
       "Design          815490921.0\n",
       "Fashion         149422710.0\n",
       "Film & Video    404574432.0\n",
       "Food            131378697.0\n",
       "Games           770331916.0\n",
       "Journalism       15301995.0\n",
       "Music           207294847.0\n",
       "Photography      39501225.0\n",
       "Publishing      145090177.0\n",
       "Technology      735608802.0\n",
       "Theater          44713013.0\n",
       "Name: pledged, dtype: float64"
      ]
     },
     "execution_count": 21,
     "metadata": {},
     "output_type": "execute_result"
    }
   ],
   "source": [
    "kickstarter.groupby(\"category\")[\"pledged\"].sum().round()"
   ]
  },
  {
   "cell_type": "markdown",
   "id": "70f58314",
   "metadata": {},
   "source": [
    "_Let's also sort this to better see the ordering_"
   ]
  },
  {
   "cell_type": "code",
   "execution_count": 22,
   "id": "9c96eb65",
   "metadata": {},
   "outputs": [
    {
     "data": {
      "text/plain": [
       "category\n",
       "Design          815490921.0\n",
       "Games           770331916.0\n",
       "Technology      735608802.0\n",
       "Film & Video    404574432.0\n",
       "Music           207294847.0\n",
       "Fashion         149422710.0\n",
       "Publishing      145090177.0\n",
       "Food            131378697.0\n",
       "Art             101547028.0\n",
       "Comics           74643648.0\n",
       "Theater          44713013.0\n",
       "Photography      39501225.0\n",
       "Crafts           17760300.0\n",
       "Journalism       15301995.0\n",
       "Dance            13906929.0\n",
       "Name: pledged, dtype: float64"
      ]
     },
     "execution_count": 22,
     "metadata": {},
     "output_type": "execute_result"
    }
   ],
   "source": [
    "kickstarter.groupby(\"category\")[\"pledged\"].sum().round().sort_values(ascending=False)"
   ]
  },
  {
   "cell_type": "markdown",
   "id": "66d7ce3c",
   "metadata": {},
   "source": [
    "2. What is the breakdown of the state of projects? That is, how many have failed, succeeded etc.? Calculate the answer both as absolute numbers and percentages."
   ]
  },
  {
   "cell_type": "code",
   "execution_count": 23,
   "id": "3f126ec0",
   "metadata": {},
   "outputs": [
    {
     "data": {
      "text/plain": [
       "state\n",
       "failed        197719\n",
       "successful    133956\n",
       "canceled       38779\n",
       "undefined       3562\n",
       "live            2799\n",
       "suspended       1846\n",
       "Name: count, dtype: int64"
      ]
     },
     "execution_count": 23,
     "metadata": {},
     "output_type": "execute_result"
    }
   ],
   "source": [
    "kickstarter[\"state\"].value_counts()"
   ]
  },
  {
   "cell_type": "code",
   "execution_count": 24,
   "id": "6538372d",
   "metadata": {},
   "outputs": [
    {
     "data": {
      "text/plain": [
       "state\n",
       "failed        0.522153\n",
       "successful    0.353762\n",
       "canceled      0.102411\n",
       "undefined     0.009407\n",
       "live          0.007392\n",
       "suspended     0.004875\n",
       "Name: proportion, dtype: float64"
      ]
     },
     "execution_count": 24,
     "metadata": {},
     "output_type": "execute_result"
    }
   ],
   "source": [
    "kickstarter[\"state\"].value_counts(normalize=True)"
   ]
  },
  {
   "cell_type": "markdown",
   "id": "8bc4688e",
   "metadata": {},
   "source": [
    "3. Which category has the highest *average* pledged amount?"
   ]
  },
  {
   "cell_type": "code",
   "execution_count": 25,
   "id": "8b6caea3",
   "metadata": {},
   "outputs": [
    {
     "data": {
      "text/plain": [
       "category\n",
       "Design          1989.5\n",
       "Dance           1823.0\n",
       "Theater         1500.0\n",
       "Comics          1480.0\n",
       "Games           1283.0\n",
       "Music           1020.0\n",
       "Film & Video     730.0\n",
       "Art              424.0\n",
       "Technology       331.0\n",
       "Publishing       276.0\n",
       "Food             255.0\n",
       "Fashion          241.0\n",
       "Photography      235.0\n",
       "Crafts            95.0\n",
       "Journalism        51.0\n",
       "Name: pledged, dtype: float64"
      ]
     },
     "execution_count": 25,
     "metadata": {},
     "output_type": "execute_result"
    }
   ],
   "source": [
    "# can use either mean or median of course\n",
    "kickstarter.groupby(\"category\")[\"pledged\"].median().sort_values(ascending=False)"
   ]
  },
  {
   "cell_type": "markdown",
   "id": "3b897cfc",
   "metadata": {},
   "source": [
    "4. Find the most expensive (i.e. highest goal) project in the Photography category."
   ]
  },
  {
   "cell_type": "code",
   "execution_count": 26,
   "id": "936be2eb",
   "metadata": {},
   "outputs": [
    {
     "data": {
      "text/html": [
       "<div>\n",
       "<style scoped>\n",
       "    .dataframe tbody tr th:only-of-type {\n",
       "        vertical-align: middle;\n",
       "    }\n",
       "\n",
       "    .dataframe tbody tr th {\n",
       "        vertical-align: top;\n",
       "    }\n",
       "\n",
       "    .dataframe thead th {\n",
       "        text-align: right;\n",
       "    }\n",
       "</style>\n",
       "<table border=\"1\" class=\"dataframe\">\n",
       "  <thead>\n",
       "    <tr style=\"text-align: right;\">\n",
       "      <th></th>\n",
       "      <th>ID</th>\n",
       "      <th>name</th>\n",
       "      <th>subcategory</th>\n",
       "      <th>category</th>\n",
       "      <th>currency</th>\n",
       "      <th>deadline</th>\n",
       "      <th>goal</th>\n",
       "      <th>launched</th>\n",
       "      <th>pledged</th>\n",
       "      <th>state</th>\n",
       "      <th>backers</th>\n",
       "      <th>country</th>\n",
       "      <th>pct_goal_achieved</th>\n",
       "    </tr>\n",
       "  </thead>\n",
       "  <tbody>\n",
       "    <tr>\n",
       "      <th>5076</th>\n",
       "      <td>1025947904</td>\n",
       "      <td>Long island city new york art book (Canceled)</td>\n",
       "      <td>Photography</td>\n",
       "      <td>Photography</td>\n",
       "      <td>USD</td>\n",
       "      <td>2013-11-07</td>\n",
       "      <td>10000000.0</td>\n",
       "      <td>2013-10-08 23:16:26</td>\n",
       "      <td>0.0</td>\n",
       "      <td>canceled</td>\n",
       "      <td>0</td>\n",
       "      <td>US</td>\n",
       "      <td>0.000000e+00</td>\n",
       "    </tr>\n",
       "    <tr>\n",
       "      <th>135129</th>\n",
       "      <td>1686065004</td>\n",
       "      <td>Nature's Beauty and Wonders</td>\n",
       "      <td>Nature</td>\n",
       "      <td>Photography</td>\n",
       "      <td>USD</td>\n",
       "      <td>2015-07-05</td>\n",
       "      <td>7300000.0</td>\n",
       "      <td>2015-05-21 12:49:15</td>\n",
       "      <td>0.0</td>\n",
       "      <td>failed</td>\n",
       "      <td>0</td>\n",
       "      <td>US</td>\n",
       "      <td>0.000000e+00</td>\n",
       "    </tr>\n",
       "    <tr>\n",
       "      <th>162771</th>\n",
       "      <td>1828026144</td>\n",
       "      <td>\"SKY BLUE SKY\" - The Most Expen$ive Photograph...</td>\n",
       "      <td>Fine Art</td>\n",
       "      <td>Photography</td>\n",
       "      <td>USD</td>\n",
       "      <td>2016-03-07</td>\n",
       "      <td>6500001.0</td>\n",
       "      <td>2016-02-04 20:03:04</td>\n",
       "      <td>3.0</td>\n",
       "      <td>failed</td>\n",
       "      <td>3</td>\n",
       "      <td>US</td>\n",
       "      <td>4.615384e-07</td>\n",
       "    </tr>\n",
       "    <tr>\n",
       "      <th>7272</th>\n",
       "      <td>1036946517</td>\n",
       "      <td>Save Nature</td>\n",
       "      <td>Nature</td>\n",
       "      <td>Photography</td>\n",
       "      <td>USD</td>\n",
       "      <td>2016-07-12</td>\n",
       "      <td>2000000.0</td>\n",
       "      <td>2016-05-13 21:59:33</td>\n",
       "      <td>20.0</td>\n",
       "      <td>failed</td>\n",
       "      <td>1</td>\n",
       "      <td>US</td>\n",
       "      <td>1.000000e-05</td>\n",
       "    </tr>\n",
       "    <tr>\n",
       "      <th>26680</th>\n",
       "      <td>1135431596</td>\n",
       "      <td>Challenge of the 14</td>\n",
       "      <td>Nature</td>\n",
       "      <td>Photography</td>\n",
       "      <td>DKK</td>\n",
       "      <td>2015-01-07</td>\n",
       "      <td>2000000.0</td>\n",
       "      <td>2014-11-28 21:41:41</td>\n",
       "      <td>2320.0</td>\n",
       "      <td>failed</td>\n",
       "      <td>6</td>\n",
       "      <td>DK</td>\n",
       "      <td>1.160000e-03</td>\n",
       "    </tr>\n",
       "  </tbody>\n",
       "</table>\n",
       "</div>"
      ],
      "text/plain": [
       "                ID                                               name  \\\n",
       "5076    1025947904      Long island city new york art book (Canceled)   \n",
       "135129  1686065004                        Nature's Beauty and Wonders   \n",
       "162771  1828026144  \"SKY BLUE SKY\" - The Most Expen$ive Photograph...   \n",
       "7272    1036946517                                        Save Nature   \n",
       "26680   1135431596                                Challenge of the 14   \n",
       "\n",
       "        subcategory     category currency    deadline        goal  \\\n",
       "5076    Photography  Photography      USD  2013-11-07  10000000.0   \n",
       "135129       Nature  Photography      USD  2015-07-05   7300000.0   \n",
       "162771     Fine Art  Photography      USD  2016-03-07   6500001.0   \n",
       "7272         Nature  Photography      USD  2016-07-12   2000000.0   \n",
       "26680        Nature  Photography      DKK  2015-01-07   2000000.0   \n",
       "\n",
       "                   launched  pledged     state  backers country  \\\n",
       "5076    2013-10-08 23:16:26      0.0  canceled        0      US   \n",
       "135129  2015-05-21 12:49:15      0.0    failed        0      US   \n",
       "162771  2016-02-04 20:03:04      3.0    failed        3      US   \n",
       "7272    2016-05-13 21:59:33     20.0    failed        1      US   \n",
       "26680   2014-11-28 21:41:41   2320.0    failed        6      DK   \n",
       "\n",
       "        pct_goal_achieved  \n",
       "5076         0.000000e+00  \n",
       "135129       0.000000e+00  \n",
       "162771       4.615384e-07  \n",
       "7272         1.000000e-05  \n",
       "26680        1.160000e-03  "
      ]
     },
     "execution_count": 26,
     "metadata": {},
     "output_type": "execute_result"
    }
   ],
   "source": [
    "kickstarter[kickstarter[\"category\"] == \"Photography\"].sort_values(by=\"goal\", ascending=False).head()"
   ]
  },
  {
   "cell_type": "markdown",
   "id": "f76c5b34",
   "metadata": {},
   "source": [
    "5. Find the project in the Food category with the highest number of backers."
   ]
  },
  {
   "cell_type": "code",
   "execution_count": 27,
   "id": "4846bb3f",
   "metadata": {},
   "outputs": [
    {
     "data": {
      "text/html": [
       "<div>\n",
       "<style scoped>\n",
       "    .dataframe tbody tr th:only-of-type {\n",
       "        vertical-align: middle;\n",
       "    }\n",
       "\n",
       "    .dataframe tbody tr th {\n",
       "        vertical-align: top;\n",
       "    }\n",
       "\n",
       "    .dataframe thead th {\n",
       "        text-align: right;\n",
       "    }\n",
       "</style>\n",
       "<table border=\"1\" class=\"dataframe\">\n",
       "  <thead>\n",
       "    <tr style=\"text-align: right;\">\n",
       "      <th></th>\n",
       "      <th>ID</th>\n",
       "      <th>name</th>\n",
       "      <th>subcategory</th>\n",
       "      <th>category</th>\n",
       "      <th>currency</th>\n",
       "      <th>deadline</th>\n",
       "      <th>goal</th>\n",
       "      <th>launched</th>\n",
       "      <th>pledged</th>\n",
       "      <th>state</th>\n",
       "      <th>backers</th>\n",
       "      <th>country</th>\n",
       "      <th>pct_goal_achieved</th>\n",
       "    </tr>\n",
       "  </thead>\n",
       "  <tbody>\n",
       "    <tr>\n",
       "      <th>246496</th>\n",
       "      <td>323562295</td>\n",
       "      <td>Misen: Cook Sharp</td>\n",
       "      <td>Food</td>\n",
       "      <td>Food</td>\n",
       "      <td>USD</td>\n",
       "      <td>2015-10-22</td>\n",
       "      <td>25000.0</td>\n",
       "      <td>2015-09-22 15:02:12</td>\n",
       "      <td>1083344.11</td>\n",
       "      <td>successful</td>\n",
       "      <td>13116</td>\n",
       "      <td>US</td>\n",
       "      <td>43.333764</td>\n",
       "    </tr>\n",
       "    <tr>\n",
       "      <th>184979</th>\n",
       "      <td>1941968078</td>\n",
       "      <td>Prepd Pack - The Lunchbox Reimagined</td>\n",
       "      <td>Food</td>\n",
       "      <td>Food</td>\n",
       "      <td>USD</td>\n",
       "      <td>2016-02-26</td>\n",
       "      <td>25000.0</td>\n",
       "      <td>2016-01-19 17:56:39</td>\n",
       "      <td>1439098.99</td>\n",
       "      <td>successful</td>\n",
       "      <td>12557</td>\n",
       "      <td>US</td>\n",
       "      <td>57.563960</td>\n",
       "    </tr>\n",
       "    <tr>\n",
       "      <th>139121</th>\n",
       "      <td>170672682</td>\n",
       "      <td>The Field Skillet: Lighter, Smoother Cast Iron</td>\n",
       "      <td>Food</td>\n",
       "      <td>Food</td>\n",
       "      <td>USD</td>\n",
       "      <td>2016-04-07</td>\n",
       "      <td>30000.0</td>\n",
       "      <td>2016-03-07 02:25:16</td>\n",
       "      <td>1633361.53</td>\n",
       "      <td>successful</td>\n",
       "      <td>12553</td>\n",
       "      <td>US</td>\n",
       "      <td>54.445384</td>\n",
       "    </tr>\n",
       "    <tr>\n",
       "      <th>16654</th>\n",
       "      <td>108427247</td>\n",
       "      <td>Anova Precision Cooker - Cook sous vide with y...</td>\n",
       "      <td>Food</td>\n",
       "      <td>Food</td>\n",
       "      <td>USD</td>\n",
       "      <td>2014-06-17</td>\n",
       "      <td>100000.0</td>\n",
       "      <td>2014-05-06 09:01:51</td>\n",
       "      <td>1811321.60</td>\n",
       "      <td>successful</td>\n",
       "      <td>10508</td>\n",
       "      <td>US</td>\n",
       "      <td>18.113216</td>\n",
       "    </tr>\n",
       "    <tr>\n",
       "      <th>225764</th>\n",
       "      <td>217543389</td>\n",
       "      <td>The uKeg Pressurized Growler for Fresh Beer</td>\n",
       "      <td>Drinks</td>\n",
       "      <td>Food</td>\n",
       "      <td>USD</td>\n",
       "      <td>2014-12-08</td>\n",
       "      <td>75000.0</td>\n",
       "      <td>2014-10-15 06:34:48</td>\n",
       "      <td>1559525.68</td>\n",
       "      <td>successful</td>\n",
       "      <td>10293</td>\n",
       "      <td>US</td>\n",
       "      <td>20.793676</td>\n",
       "    </tr>\n",
       "  </tbody>\n",
       "</table>\n",
       "</div>"
      ],
      "text/plain": [
       "                ID                                               name  \\\n",
       "246496   323562295                                  Misen: Cook Sharp   \n",
       "184979  1941968078               Prepd Pack - The Lunchbox Reimagined   \n",
       "139121   170672682     The Field Skillet: Lighter, Smoother Cast Iron   \n",
       "16654    108427247  Anova Precision Cooker - Cook sous vide with y...   \n",
       "225764   217543389        The uKeg Pressurized Growler for Fresh Beer   \n",
       "\n",
       "       subcategory category currency    deadline      goal  \\\n",
       "246496        Food     Food      USD  2015-10-22   25000.0   \n",
       "184979        Food     Food      USD  2016-02-26   25000.0   \n",
       "139121        Food     Food      USD  2016-04-07   30000.0   \n",
       "16654         Food     Food      USD  2014-06-17  100000.0   \n",
       "225764      Drinks     Food      USD  2014-12-08   75000.0   \n",
       "\n",
       "                   launched     pledged       state  backers country  \\\n",
       "246496  2015-09-22 15:02:12  1083344.11  successful    13116      US   \n",
       "184979  2016-01-19 17:56:39  1439098.99  successful    12557      US   \n",
       "139121  2016-03-07 02:25:16  1633361.53  successful    12553      US   \n",
       "16654   2014-05-06 09:01:51  1811321.60  successful    10508      US   \n",
       "225764  2014-10-15 06:34:48  1559525.68  successful    10293      US   \n",
       "\n",
       "        pct_goal_achieved  \n",
       "246496          43.333764  \n",
       "184979          57.563960  \n",
       "139121          54.445384  \n",
       "16654           18.113216  \n",
       "225764          20.793676  "
      ]
     },
     "execution_count": 27,
     "metadata": {},
     "output_type": "execute_result"
    }
   ],
   "source": [
    "kickstarter[kickstarter[\"category\"] == \"Food\"].sort_values(by=\"backers\", ascending=False).head()"
   ]
  },
  {
   "cell_type": "markdown",
   "id": "f2176647",
   "metadata": {},
   "source": [
    "6. **BONUS** Find the project with the longest name.\n",
    "\n",
    "_Hint: figure out how to calculate the length of the names first!_"
   ]
  },
  {
   "cell_type": "code",
   "execution_count": 28,
   "id": "ac1bbff1",
   "metadata": {},
   "outputs": [
    {
     "data": {
      "text/html": [
       "<div>\n",
       "<style scoped>\n",
       "    .dataframe tbody tr th:only-of-type {\n",
       "        vertical-align: middle;\n",
       "    }\n",
       "\n",
       "    .dataframe tbody tr th {\n",
       "        vertical-align: top;\n",
       "    }\n",
       "\n",
       "    .dataframe thead th {\n",
       "        text-align: right;\n",
       "    }\n",
       "</style>\n",
       "<table border=\"1\" class=\"dataframe\">\n",
       "  <thead>\n",
       "    <tr style=\"text-align: right;\">\n",
       "      <th></th>\n",
       "      <th>ID</th>\n",
       "      <th>name</th>\n",
       "      <th>subcategory</th>\n",
       "      <th>category</th>\n",
       "      <th>currency</th>\n",
       "      <th>deadline</th>\n",
       "      <th>goal</th>\n",
       "      <th>launched</th>\n",
       "      <th>pledged</th>\n",
       "      <th>state</th>\n",
       "      <th>backers</th>\n",
       "      <th>country</th>\n",
       "      <th>pct_goal_achieved</th>\n",
       "      <th>name_length</th>\n",
       "    </tr>\n",
       "  </thead>\n",
       "  <tbody>\n",
       "    <tr>\n",
       "      <th>256578</th>\n",
       "      <td>374803524</td>\n",
       "      <td>BENEATH - Publish the book â¢ Visit another w...</td>\n",
       "      <td>Fiction</td>\n",
       "      <td>Publishing</td>\n",
       "      <td>USD</td>\n",
       "      <td>2010-09-24</td>\n",
       "      <td>5500.0</td>\n",
       "      <td>2010-08-10 21:54:47</td>\n",
       "      <td>1000.0</td>\n",
       "      <td>canceled</td>\n",
       "      <td>26</td>\n",
       "      <td>US</td>\n",
       "      <td>0.181818</td>\n",
       "      <td>99</td>\n",
       "    </tr>\n",
       "    <tr>\n",
       "      <th>241231</th>\n",
       "      <td>296883451</td>\n",
       "      <td>The Release of Sharp Tungâs exclusive Record...</td>\n",
       "      <td>Hip-Hop</td>\n",
       "      <td>Music</td>\n",
       "      <td>USD</td>\n",
       "      <td>2010-10-23</td>\n",
       "      <td>5000.0</td>\n",
       "      <td>2010-08-24 15:26:00</td>\n",
       "      <td>135.0</td>\n",
       "      <td>canceled</td>\n",
       "      <td>3</td>\n",
       "      <td>US</td>\n",
       "      <td>0.027000</td>\n",
       "      <td>98</td>\n",
       "    </tr>\n",
       "    <tr>\n",
       "      <th>159093</th>\n",
       "      <td>1809078773</td>\n",
       "      <td>One More Time â CD with 10 original songs, i...</td>\n",
       "      <td>Country &amp; Folk</td>\n",
       "      <td>Music</td>\n",
       "      <td>USD</td>\n",
       "      <td>2010-09-20</td>\n",
       "      <td>4000.0</td>\n",
       "      <td>2010-08-16 01:26:24</td>\n",
       "      <td>30.0</td>\n",
       "      <td>canceled</td>\n",
       "      <td>2</td>\n",
       "      <td>US</td>\n",
       "      <td>0.007500</td>\n",
       "      <td>97</td>\n",
       "    </tr>\n",
       "    <tr>\n",
       "      <th>137838</th>\n",
       "      <td>1700039760</td>\n",
       "      <td>ACID MARSHMALLOW: Improve my Audio &amp; Visual do...</td>\n",
       "      <td>Documentary</td>\n",
       "      <td>Film &amp; Video</td>\n",
       "      <td>USD</td>\n",
       "      <td>2009-12-29</td>\n",
       "      <td>1600.0</td>\n",
       "      <td>2009-11-26 10:12:11</td>\n",
       "      <td>0.0</td>\n",
       "      <td>canceled</td>\n",
       "      <td>0</td>\n",
       "      <td>US</td>\n",
       "      <td>0.000000</td>\n",
       "      <td>96</td>\n",
       "    </tr>\n",
       "    <tr>\n",
       "      <th>178536</th>\n",
       "      <td>1908331441</td>\n",
       "      <td>Always Something Doing: An Archive of Copyrigh...</td>\n",
       "      <td>Webseries</td>\n",
       "      <td>Film &amp; Video</td>\n",
       "      <td>USD</td>\n",
       "      <td>2010-11-16</td>\n",
       "      <td>13000.0</td>\n",
       "      <td>2010-10-05 02:22:24</td>\n",
       "      <td>210.0</td>\n",
       "      <td>canceled</td>\n",
       "      <td>5</td>\n",
       "      <td>US</td>\n",
       "      <td>0.016154</td>\n",
       "      <td>96</td>\n",
       "    </tr>\n",
       "  </tbody>\n",
       "</table>\n",
       "</div>"
      ],
      "text/plain": [
       "                ID                                               name  \\\n",
       "256578   374803524  BENEATH - Publish the book â¢ Visit another w...   \n",
       "241231   296883451  The Release of Sharp Tungâs exclusive Record...   \n",
       "159093  1809078773  One More Time â CD with 10 original songs, i...   \n",
       "137838  1700039760  ACID MARSHMALLOW: Improve my Audio & Visual do...   \n",
       "178536  1908331441  Always Something Doing: An Archive of Copyrigh...   \n",
       "\n",
       "           subcategory      category currency    deadline     goal  \\\n",
       "256578         Fiction    Publishing      USD  2010-09-24   5500.0   \n",
       "241231         Hip-Hop         Music      USD  2010-10-23   5000.0   \n",
       "159093  Country & Folk         Music      USD  2010-09-20   4000.0   \n",
       "137838     Documentary  Film & Video      USD  2009-12-29   1600.0   \n",
       "178536       Webseries  Film & Video      USD  2010-11-16  13000.0   \n",
       "\n",
       "                   launched  pledged     state  backers country  \\\n",
       "256578  2010-08-10 21:54:47   1000.0  canceled       26      US   \n",
       "241231  2010-08-24 15:26:00    135.0  canceled        3      US   \n",
       "159093  2010-08-16 01:26:24     30.0  canceled        2      US   \n",
       "137838  2009-11-26 10:12:11      0.0  canceled        0      US   \n",
       "178536  2010-10-05 02:22:24    210.0  canceled        5      US   \n",
       "\n",
       "        pct_goal_achieved  name_length  \n",
       "256578           0.181818           99  \n",
       "241231           0.027000           98  \n",
       "159093           0.007500           97  \n",
       "137838           0.000000           96  \n",
       "178536           0.016154           96  "
      ]
     },
     "execution_count": 28,
     "metadata": {},
     "output_type": "execute_result"
    }
   ],
   "source": [
    "kickstarter[\"name_length\"] = kickstarter[\"name\"].str.len()\n",
    "kickstarter.sort_values(by=\"name_length\", ascending=False).head()"
   ]
  },
  {
   "cell_type": "markdown",
   "id": "b035b7d2",
   "metadata": {},
   "source": [
    "_If you want to print the actual value without it truncating, you can access `.values` to get the underlying `numpy` array data_"
   ]
  },
  {
   "cell_type": "code",
   "execution_count": 29,
   "id": "6a4d521d",
   "metadata": {},
   "outputs": [
    {
     "data": {
      "text/plain": [
       "'BENEATH - Publish the book â\\x80¢ Visit another world â\\x80¢ Lose your mind â\\x80¢ Cringe in fear (Canceled)'"
      ]
     },
     "execution_count": 29,
     "metadata": {},
     "output_type": "execute_result"
    }
   ],
   "source": [
    "kickstarter.sort_values(by=\"name_length\", ascending=False)[\"name\"].values[0]"
   ]
  },
  {
   "cell_type": "markdown",
   "id": "001bf8f3",
   "metadata": {},
   "source": [
    "<h1 style=\"color: #fcd805\">Exercise: combining data</h1>\n",
    "\n",
    "1. Select all the rows from the `earning` table in the movies database into a `pandas` `DataFrame`."
   ]
  },
  {
   "cell_type": "code",
   "execution_count": 30,
   "id": "5a02a756",
   "metadata": {},
   "outputs": [
    {
     "data": {
      "text/html": [
       "<div>\n",
       "<style scoped>\n",
       "    .dataframe tbody tr th:only-of-type {\n",
       "        vertical-align: middle;\n",
       "    }\n",
       "\n",
       "    .dataframe tbody tr th {\n",
       "        vertical-align: top;\n",
       "    }\n",
       "\n",
       "    .dataframe thead th {\n",
       "        text-align: right;\n",
       "    }\n",
       "</style>\n",
       "<table border=\"1\" class=\"dataframe\">\n",
       "  <thead>\n",
       "    <tr style=\"text-align: right;\">\n",
       "      <th></th>\n",
       "      <th>Movie_id</th>\n",
       "      <th>Title</th>\n",
       "      <th>Rating</th>\n",
       "      <th>TotalVotes</th>\n",
       "      <th>MetaCritic</th>\n",
       "      <th>Budget</th>\n",
       "      <th>Runtime</th>\n",
       "      <th>CVotes10</th>\n",
       "      <th>CVotes09</th>\n",
       "      <th>CVotes08</th>\n",
       "      <th>...</th>\n",
       "      <th>Votes3044M</th>\n",
       "      <th>Votes3044F</th>\n",
       "      <th>Votes45A</th>\n",
       "      <th>Votes45AM</th>\n",
       "      <th>Votes45AF</th>\n",
       "      <th>VotesIMDB</th>\n",
       "      <th>Votes1000</th>\n",
       "      <th>VotesUS</th>\n",
       "      <th>VotesnUS</th>\n",
       "      <th>genre</th>\n",
       "    </tr>\n",
       "  </thead>\n",
       "  <tbody>\n",
       "    <tr>\n",
       "      <th>0</th>\n",
       "      <td>36809</td>\n",
       "      <td>12 Years a Slave (2013)</td>\n",
       "      <td>8.1</td>\n",
       "      <td>496092</td>\n",
       "      <td>96</td>\n",
       "      <td>20000000.0</td>\n",
       "      <td>134 min</td>\n",
       "      <td>75556</td>\n",
       "      <td>126223</td>\n",
       "      <td>161460</td>\n",
       "      <td>...</td>\n",
       "      <td>7.9</td>\n",
       "      <td>8.0</td>\n",
       "      <td>7.8</td>\n",
       "      <td>7.8</td>\n",
       "      <td>8.1</td>\n",
       "      <td>8.0</td>\n",
       "      <td>7.7</td>\n",
       "      <td>8.3</td>\n",
       "      <td>8.0</td>\n",
       "      <td>Biography</td>\n",
       "    </tr>\n",
       "    <tr>\n",
       "      <th>3</th>\n",
       "      <td>30114</td>\n",
       "      <td>127 Hours (2010)</td>\n",
       "      <td>7.6</td>\n",
       "      <td>297075</td>\n",
       "      <td>82</td>\n",
       "      <td>18000000.0</td>\n",
       "      <td>94 min</td>\n",
       "      <td>28939</td>\n",
       "      <td>44110</td>\n",
       "      <td>98845</td>\n",
       "      <td>...</td>\n",
       "      <td>7.5</td>\n",
       "      <td>7.5</td>\n",
       "      <td>7.3</td>\n",
       "      <td>7.3</td>\n",
       "      <td>7.5</td>\n",
       "      <td>7.6</td>\n",
       "      <td>7.0</td>\n",
       "      <td>7.7</td>\n",
       "      <td>7.6</td>\n",
       "      <td>Adventure</td>\n",
       "    </tr>\n",
       "    <tr>\n",
       "      <th>6</th>\n",
       "      <td>37367</td>\n",
       "      <td>50/50 (2011)</td>\n",
       "      <td>7.7</td>\n",
       "      <td>283935</td>\n",
       "      <td>72</td>\n",
       "      <td>8000000.0</td>\n",
       "      <td>100 min</td>\n",
       "      <td>28304</td>\n",
       "      <td>47501</td>\n",
       "      <td>99524</td>\n",
       "      <td>...</td>\n",
       "      <td>7.6</td>\n",
       "      <td>7.6</td>\n",
       "      <td>7.4</td>\n",
       "      <td>7.4</td>\n",
       "      <td>7.5</td>\n",
       "      <td>7.4</td>\n",
       "      <td>7.0</td>\n",
       "      <td>7.9</td>\n",
       "      <td>7.6</td>\n",
       "      <td>Comedy</td>\n",
       "    </tr>\n",
       "    <tr>\n",
       "      <th>9</th>\n",
       "      <td>49473</td>\n",
       "      <td>About Time (2013)</td>\n",
       "      <td>7.8</td>\n",
       "      <td>225412</td>\n",
       "      <td></td>\n",
       "      <td>12000000.0</td>\n",
       "      <td>123 min</td>\n",
       "      <td>38556</td>\n",
       "      <td>43170</td>\n",
       "      <td>70850</td>\n",
       "      <td>...</td>\n",
       "      <td>7.6</td>\n",
       "      <td>7.7</td>\n",
       "      <td>7.6</td>\n",
       "      <td>7.5</td>\n",
       "      <td>7.8</td>\n",
       "      <td>7.7</td>\n",
       "      <td>6.9</td>\n",
       "      <td>7.8</td>\n",
       "      <td>7.7</td>\n",
       "      <td>Comedy</td>\n",
       "    </tr>\n",
       "    <tr>\n",
       "      <th>12</th>\n",
       "      <td>14867</td>\n",
       "      <td>Amour (2012)</td>\n",
       "      <td>7.9</td>\n",
       "      <td>76121</td>\n",
       "      <td>94</td>\n",
       "      <td>8900000.0</td>\n",
       "      <td>127 min</td>\n",
       "      <td>11093</td>\n",
       "      <td>15944</td>\n",
       "      <td>22942</td>\n",
       "      <td>...</td>\n",
       "      <td>7.7</td>\n",
       "      <td>7.9</td>\n",
       "      <td>7.9</td>\n",
       "      <td>7.8</td>\n",
       "      <td>8.1</td>\n",
       "      <td>6.6</td>\n",
       "      <td>7.2</td>\n",
       "      <td>7.9</td>\n",
       "      <td>7.8</td>\n",
       "      <td>Drama</td>\n",
       "    </tr>\n",
       "  </tbody>\n",
       "</table>\n",
       "<p>5 rows × 53 columns</p>\n",
       "</div>"
      ],
      "text/plain": [
       "   Movie_id                    Title  Rating  TotalVotes MetaCritic  \\\n",
       "0     36809  12 Years a Slave (2013)     8.1      496092         96   \n",
       "3     30114         127 Hours (2010)     7.6      297075         82   \n",
       "6     37367             50/50 (2011)     7.7      283935         72   \n",
       "9     49473        About Time (2013)     7.8      225412              \n",
       "12    14867             Amour (2012)     7.9       76121         94   \n",
       "\n",
       "        Budget  Runtime CVotes10 CVotes09 CVotes08  ... Votes3044M Votes3044F  \\\n",
       "0   20000000.0  134 min    75556   126223   161460  ...        7.9        8.0   \n",
       "3   18000000.0   94 min    28939    44110    98845  ...        7.5        7.5   \n",
       "6    8000000.0  100 min    28304    47501    99524  ...        7.6        7.6   \n",
       "9   12000000.0  123 min    38556    43170    70850  ...        7.6        7.7   \n",
       "12   8900000.0  127 min    11093    15944    22942  ...        7.7        7.9   \n",
       "\n",
       "   Votes45A Votes45AM Votes45AF VotesIMDB Votes1000 VotesUS VotesnUS  \\\n",
       "0       7.8       7.8       8.1       8.0       7.7     8.3      8.0   \n",
       "3       7.3       7.3       7.5       7.6       7.0     7.7      7.6   \n",
       "6       7.4       7.4       7.5       7.4       7.0     7.9      7.6   \n",
       "9       7.6       7.5       7.8       7.7       6.9     7.8      7.7   \n",
       "12      7.9       7.8       8.1       6.6       7.2     7.9      7.8   \n",
       "\n",
       "        genre  \n",
       "0   Biography  \n",
       "3   Adventure  \n",
       "6      Comedy  \n",
       "9      Comedy  \n",
       "12      Drama  \n",
       "\n",
       "[5 rows x 53 columns]"
      ]
     },
     "execution_count": 30,
     "metadata": {},
     "output_type": "execute_result"
    }
   ],
   "source": [
    "import sqlite3\n",
    "\n",
    "# connect to DB\n",
    "conn = sqlite3.connect(\"./data/movies.sqlite\")\n",
    "\n",
    "# extract films\n",
    "films = pd.read_sql(\"\"\"\n",
    "SELECT\n",
    "    *\n",
    "FROM\n",
    "    IMDB\n",
    "\"\"\", conn)\n",
    "\n",
    "# extract genres\n",
    "genres = pd.read_sql(\"\"\"\n",
    "SELECT\n",
    "    *\n",
    "FROM\n",
    "    genre\n",
    "\"\"\", conn)\n",
    "\n",
    "# merge\n",
    "films_merged = films.merge(genres, on=\"Movie_id\", how=\"inner\")\n",
    "\n",
    "# dedupe\n",
    "films_deduped = films_merged.drop_duplicates(subset=[\"Movie_id\"], keep=\"first\")\n",
    "films_deduped.head()"
   ]
  },
  {
   "cell_type": "code",
   "execution_count": 31,
   "id": "74d4080d",
   "metadata": {},
   "outputs": [
    {
     "data": {
      "text/html": [
       "<div>\n",
       "<style scoped>\n",
       "    .dataframe tbody tr th:only-of-type {\n",
       "        vertical-align: middle;\n",
       "    }\n",
       "\n",
       "    .dataframe tbody tr th {\n",
       "        vertical-align: top;\n",
       "    }\n",
       "\n",
       "    .dataframe thead th {\n",
       "        text-align: right;\n",
       "    }\n",
       "</style>\n",
       "<table border=\"1\" class=\"dataframe\">\n",
       "  <thead>\n",
       "    <tr style=\"text-align: right;\">\n",
       "      <th></th>\n",
       "      <th>Movie_id</th>\n",
       "      <th>Domestic</th>\n",
       "      <th>Worldwide</th>\n",
       "    </tr>\n",
       "  </thead>\n",
       "  <tbody>\n",
       "    <tr>\n",
       "      <th>0</th>\n",
       "      <td>36809</td>\n",
       "      <td>56671993</td>\n",
       "      <td>187733202.0</td>\n",
       "    </tr>\n",
       "    <tr>\n",
       "      <th>1</th>\n",
       "      <td>30114</td>\n",
       "      <td>18335230</td>\n",
       "      <td>60738797.0</td>\n",
       "    </tr>\n",
       "    <tr>\n",
       "      <th>2</th>\n",
       "      <td>37367</td>\n",
       "      <td>35014192</td>\n",
       "      <td>39187783.0</td>\n",
       "    </tr>\n",
       "    <tr>\n",
       "      <th>3</th>\n",
       "      <td>49473</td>\n",
       "      <td>15322921</td>\n",
       "      <td>87100449.0</td>\n",
       "    </tr>\n",
       "    <tr>\n",
       "      <th>4</th>\n",
       "      <td>14867</td>\n",
       "      <td>6739492</td>\n",
       "      <td>19839492.0</td>\n",
       "    </tr>\n",
       "  </tbody>\n",
       "</table>\n",
       "</div>"
      ],
      "text/plain": [
       "  Movie_id  Domestic    Worldwide\n",
       "0    36809  56671993  187733202.0\n",
       "1    30114  18335230   60738797.0\n",
       "2    37367  35014192   39187783.0\n",
       "3    49473  15322921   87100449.0\n",
       "4    14867   6739492   19839492.0"
      ]
     },
     "execution_count": 31,
     "metadata": {},
     "output_type": "execute_result"
    }
   ],
   "source": [
    "earnings = pd.read_sql(\"\"\"\n",
    "SELECT\n",
    "    *\n",
    "FROM\n",
    "    earning\n",
    "\"\"\", conn)\n",
    "\n",
    "earnings.head()"
   ]
  },
  {
   "cell_type": "markdown",
   "id": "42f40a59",
   "metadata": {},
   "source": [
    "2. Now join the earnings data onto the merged film+genre data.\n",
    "\n",
    "You should now have a `DataFrame` with one row per film and with genre and earnings data added on at the end.\n",
    "\n",
    "Verify that this is the case before moving on."
   ]
  },
  {
   "cell_type": "code",
   "execution_count": 32,
   "id": "1752face",
   "metadata": {},
   "outputs": [
    {
     "name": "stdout",
     "output_type": "stream",
     "text": [
      "(117, 55)\n"
     ]
    },
    {
     "data": {
      "text/html": [
       "<div>\n",
       "<style scoped>\n",
       "    .dataframe tbody tr th:only-of-type {\n",
       "        vertical-align: middle;\n",
       "    }\n",
       "\n",
       "    .dataframe tbody tr th {\n",
       "        vertical-align: top;\n",
       "    }\n",
       "\n",
       "    .dataframe thead th {\n",
       "        text-align: right;\n",
       "    }\n",
       "</style>\n",
       "<table border=\"1\" class=\"dataframe\">\n",
       "  <thead>\n",
       "    <tr style=\"text-align: right;\">\n",
       "      <th></th>\n",
       "      <th>Movie_id</th>\n",
       "      <th>Title</th>\n",
       "      <th>Rating</th>\n",
       "      <th>TotalVotes</th>\n",
       "      <th>MetaCritic</th>\n",
       "      <th>Budget</th>\n",
       "      <th>Runtime</th>\n",
       "      <th>CVotes10</th>\n",
       "      <th>CVotes09</th>\n",
       "      <th>CVotes08</th>\n",
       "      <th>...</th>\n",
       "      <th>Votes45A</th>\n",
       "      <th>Votes45AM</th>\n",
       "      <th>Votes45AF</th>\n",
       "      <th>VotesIMDB</th>\n",
       "      <th>Votes1000</th>\n",
       "      <th>VotesUS</th>\n",
       "      <th>VotesnUS</th>\n",
       "      <th>genre</th>\n",
       "      <th>Domestic</th>\n",
       "      <th>Worldwide</th>\n",
       "    </tr>\n",
       "  </thead>\n",
       "  <tbody>\n",
       "    <tr>\n",
       "      <th>0</th>\n",
       "      <td>36809</td>\n",
       "      <td>12 Years a Slave (2013)</td>\n",
       "      <td>8.1</td>\n",
       "      <td>496092</td>\n",
       "      <td>96</td>\n",
       "      <td>20000000.0</td>\n",
       "      <td>134 min</td>\n",
       "      <td>75556</td>\n",
       "      <td>126223</td>\n",
       "      <td>161460</td>\n",
       "      <td>...</td>\n",
       "      <td>7.8</td>\n",
       "      <td>7.8</td>\n",
       "      <td>8.1</td>\n",
       "      <td>8.0</td>\n",
       "      <td>7.7</td>\n",
       "      <td>8.3</td>\n",
       "      <td>8.0</td>\n",
       "      <td>Biography</td>\n",
       "      <td>56671993</td>\n",
       "      <td>187733202.0</td>\n",
       "    </tr>\n",
       "    <tr>\n",
       "      <th>1</th>\n",
       "      <td>30114</td>\n",
       "      <td>127 Hours (2010)</td>\n",
       "      <td>7.6</td>\n",
       "      <td>297075</td>\n",
       "      <td>82</td>\n",
       "      <td>18000000.0</td>\n",
       "      <td>94 min</td>\n",
       "      <td>28939</td>\n",
       "      <td>44110</td>\n",
       "      <td>98845</td>\n",
       "      <td>...</td>\n",
       "      <td>7.3</td>\n",
       "      <td>7.3</td>\n",
       "      <td>7.5</td>\n",
       "      <td>7.6</td>\n",
       "      <td>7.0</td>\n",
       "      <td>7.7</td>\n",
       "      <td>7.6</td>\n",
       "      <td>Adventure</td>\n",
       "      <td>18335230</td>\n",
       "      <td>60738797.0</td>\n",
       "    </tr>\n",
       "    <tr>\n",
       "      <th>2</th>\n",
       "      <td>37367</td>\n",
       "      <td>50/50 (2011)</td>\n",
       "      <td>7.7</td>\n",
       "      <td>283935</td>\n",
       "      <td>72</td>\n",
       "      <td>8000000.0</td>\n",
       "      <td>100 min</td>\n",
       "      <td>28304</td>\n",
       "      <td>47501</td>\n",
       "      <td>99524</td>\n",
       "      <td>...</td>\n",
       "      <td>7.4</td>\n",
       "      <td>7.4</td>\n",
       "      <td>7.5</td>\n",
       "      <td>7.4</td>\n",
       "      <td>7.0</td>\n",
       "      <td>7.9</td>\n",
       "      <td>7.6</td>\n",
       "      <td>Comedy</td>\n",
       "      <td>35014192</td>\n",
       "      <td>39187783.0</td>\n",
       "    </tr>\n",
       "    <tr>\n",
       "      <th>3</th>\n",
       "      <td>49473</td>\n",
       "      <td>About Time (2013)</td>\n",
       "      <td>7.8</td>\n",
       "      <td>225412</td>\n",
       "      <td></td>\n",
       "      <td>12000000.0</td>\n",
       "      <td>123 min</td>\n",
       "      <td>38556</td>\n",
       "      <td>43170</td>\n",
       "      <td>70850</td>\n",
       "      <td>...</td>\n",
       "      <td>7.6</td>\n",
       "      <td>7.5</td>\n",
       "      <td>7.8</td>\n",
       "      <td>7.7</td>\n",
       "      <td>6.9</td>\n",
       "      <td>7.8</td>\n",
       "      <td>7.7</td>\n",
       "      <td>Comedy</td>\n",
       "      <td>15322921</td>\n",
       "      <td>87100449.0</td>\n",
       "    </tr>\n",
       "    <tr>\n",
       "      <th>4</th>\n",
       "      <td>14867</td>\n",
       "      <td>Amour (2012)</td>\n",
       "      <td>7.9</td>\n",
       "      <td>76121</td>\n",
       "      <td>94</td>\n",
       "      <td>8900000.0</td>\n",
       "      <td>127 min</td>\n",
       "      <td>11093</td>\n",
       "      <td>15944</td>\n",
       "      <td>22942</td>\n",
       "      <td>...</td>\n",
       "      <td>7.9</td>\n",
       "      <td>7.8</td>\n",
       "      <td>8.1</td>\n",
       "      <td>6.6</td>\n",
       "      <td>7.2</td>\n",
       "      <td>7.9</td>\n",
       "      <td>7.8</td>\n",
       "      <td>Drama</td>\n",
       "      <td>6739492</td>\n",
       "      <td>19839492.0</td>\n",
       "    </tr>\n",
       "  </tbody>\n",
       "</table>\n",
       "<p>5 rows × 55 columns</p>\n",
       "</div>"
      ],
      "text/plain": [
       "  Movie_id                    Title  Rating  TotalVotes MetaCritic  \\\n",
       "0    36809  12 Years a Slave (2013)     8.1      496092         96   \n",
       "1    30114         127 Hours (2010)     7.6      297075         82   \n",
       "2    37367             50/50 (2011)     7.7      283935         72   \n",
       "3    49473        About Time (2013)     7.8      225412              \n",
       "4    14867             Amour (2012)     7.9       76121         94   \n",
       "\n",
       "       Budget  Runtime CVotes10 CVotes09 CVotes08  ... Votes45A Votes45AM  \\\n",
       "0  20000000.0  134 min    75556   126223   161460  ...      7.8       7.8   \n",
       "1  18000000.0   94 min    28939    44110    98845  ...      7.3       7.3   \n",
       "2   8000000.0  100 min    28304    47501    99524  ...      7.4       7.4   \n",
       "3  12000000.0  123 min    38556    43170    70850  ...      7.6       7.5   \n",
       "4   8900000.0  127 min    11093    15944    22942  ...      7.9       7.8   \n",
       "\n",
       "  Votes45AF VotesIMDB Votes1000 VotesUS VotesnUS      genre  Domestic  \\\n",
       "0       8.1       8.0       7.7     8.3      8.0  Biography  56671993   \n",
       "1       7.5       7.6       7.0     7.7      7.6  Adventure  18335230   \n",
       "2       7.5       7.4       7.0     7.9      7.6     Comedy  35014192   \n",
       "3       7.8       7.7       6.9     7.8      7.7     Comedy  15322921   \n",
       "4       8.1       6.6       7.2     7.9      7.8      Drama   6739492   \n",
       "\n",
       "     Worldwide  \n",
       "0  187733202.0  \n",
       "1   60738797.0  \n",
       "2   39187783.0  \n",
       "3   87100449.0  \n",
       "4   19839492.0  \n",
       "\n",
       "[5 rows x 55 columns]"
      ]
     },
     "execution_count": 32,
     "metadata": {},
     "output_type": "execute_result"
    }
   ],
   "source": [
    "films_all = films_deduped.merge(earnings, on=\"Movie_id\")\n",
    "\n",
    "print(films_all.shape)\n",
    "\n",
    "films_all.head()"
   ]
  },
  {
   "cell_type": "markdown",
   "id": "0178f737",
   "metadata": {},
   "source": [
    "3. Which film earned the least **domestically**?"
   ]
  },
  {
   "cell_type": "code",
   "execution_count": 33,
   "id": "db6a064e",
   "metadata": {},
   "outputs": [
    {
     "data": {
      "text/html": [
       "<div>\n",
       "<style scoped>\n",
       "    .dataframe tbody tr th:only-of-type {\n",
       "        vertical-align: middle;\n",
       "    }\n",
       "\n",
       "    .dataframe tbody tr th {\n",
       "        vertical-align: top;\n",
       "    }\n",
       "\n",
       "    .dataframe thead th {\n",
       "        text-align: right;\n",
       "    }\n",
       "</style>\n",
       "<table border=\"1\" class=\"dataframe\">\n",
       "  <thead>\n",
       "    <tr style=\"text-align: right;\">\n",
       "      <th></th>\n",
       "      <th>Movie_id</th>\n",
       "      <th>Title</th>\n",
       "      <th>Rating</th>\n",
       "      <th>TotalVotes</th>\n",
       "      <th>MetaCritic</th>\n",
       "      <th>Budget</th>\n",
       "      <th>Runtime</th>\n",
       "      <th>CVotes10</th>\n",
       "      <th>CVotes09</th>\n",
       "      <th>CVotes08</th>\n",
       "      <th>...</th>\n",
       "      <th>Votes45A</th>\n",
       "      <th>Votes45AM</th>\n",
       "      <th>Votes45AF</th>\n",
       "      <th>VotesIMDB</th>\n",
       "      <th>Votes1000</th>\n",
       "      <th>VotesUS</th>\n",
       "      <th>VotesnUS</th>\n",
       "      <th>genre</th>\n",
       "      <th>Domestic</th>\n",
       "      <th>Worldwide</th>\n",
       "    </tr>\n",
       "  </thead>\n",
       "  <tbody>\n",
       "    <tr>\n",
       "      <th>109</th>\n",
       "      <td>20709</td>\n",
       "      <td>Tyrannosaur (2011)</td>\n",
       "      <td>7.6</td>\n",
       "      <td>26016</td>\n",
       "      <td>65</td>\n",
       "      <td>1000000.0</td>\n",
       "      <td></td>\n",
       "      <td>2060</td>\n",
       "      <td>4083</td>\n",
       "      <td>9078</td>\n",
       "      <td>...</td>\n",
       "      <td>7.5</td>\n",
       "      <td>7.4</td>\n",
       "      <td>5.8</td>\n",
       "      <td>6.5</td>\n",
       "      <td>7.4</td>\n",
       "      <td>7.6</td>\n",
       "      <td></td>\n",
       "      <td>Drama</td>\n",
       "      <td>22321</td>\n",
       "      <td>22321.0</td>\n",
       "    </tr>\n",
       "  </tbody>\n",
       "</table>\n",
       "<p>1 rows × 55 columns</p>\n",
       "</div>"
      ],
      "text/plain": [
       "    Movie_id               Title  Rating  TotalVotes MetaCritic     Budget  \\\n",
       "109    20709  Tyrannosaur (2011)     7.6       26016         65  1000000.0   \n",
       "\n",
       "    Runtime CVotes10 CVotes09 CVotes08  ... Votes45A Votes45AM Votes45AF  \\\n",
       "109             2060     4083     9078  ...      7.5       7.4       5.8   \n",
       "\n",
       "    VotesIMDB Votes1000 VotesUS VotesnUS  genre Domestic Worldwide  \n",
       "109       6.5       7.4     7.6           Drama    22321   22321.0  \n",
       "\n",
       "[1 rows x 55 columns]"
      ]
     },
     "execution_count": 33,
     "metadata": {},
     "output_type": "execute_result"
    }
   ],
   "source": [
    "films_all.sort_values(\"Domestic\").head(1)"
   ]
  },
  {
   "cell_type": "markdown",
   "id": "c528fe91",
   "metadata": {},
   "source": [
    "4. Which film earned the most **worldwide**?"
   ]
  },
  {
   "cell_type": "code",
   "execution_count": 34,
   "id": "d0c970af",
   "metadata": {},
   "outputs": [
    {
     "data": {
      "text/html": [
       "<div>\n",
       "<style scoped>\n",
       "    .dataframe tbody tr th:only-of-type {\n",
       "        vertical-align: middle;\n",
       "    }\n",
       "\n",
       "    .dataframe tbody tr th {\n",
       "        vertical-align: top;\n",
       "    }\n",
       "\n",
       "    .dataframe thead th {\n",
       "        text-align: right;\n",
       "    }\n",
       "</style>\n",
       "<table border=\"1\" class=\"dataframe\">\n",
       "  <thead>\n",
       "    <tr style=\"text-align: right;\">\n",
       "      <th></th>\n",
       "      <th>Movie_id</th>\n",
       "      <th>Title</th>\n",
       "      <th>Rating</th>\n",
       "      <th>TotalVotes</th>\n",
       "      <th>MetaCritic</th>\n",
       "      <th>Budget</th>\n",
       "      <th>Runtime</th>\n",
       "      <th>CVotes10</th>\n",
       "      <th>CVotes09</th>\n",
       "      <th>CVotes08</th>\n",
       "      <th>...</th>\n",
       "      <th>Votes45A</th>\n",
       "      <th>Votes45AM</th>\n",
       "      <th>Votes45AF</th>\n",
       "      <th>VotesIMDB</th>\n",
       "      <th>Votes1000</th>\n",
       "      <th>VotesUS</th>\n",
       "      <th>VotesnUS</th>\n",
       "      <th>genre</th>\n",
       "      <th>Domestic</th>\n",
       "      <th>Worldwide</th>\n",
       "    </tr>\n",
       "  </thead>\n",
       "  <tbody>\n",
       "    <tr>\n",
       "      <th>79</th>\n",
       "      <td>38626</td>\n",
       "      <td>Star Wars: The Force Awakens (2015)</td>\n",
       "      <td>8.1</td>\n",
       "      <td>676732</td>\n",
       "      <td>81</td>\n",
       "      <td>245000000.0</td>\n",
       "      <td>136 min</td>\n",
       "      <td>155391</td>\n",
       "      <td>161810</td>\n",
       "      <td>166378</td>\n",
       "      <td>...</td>\n",
       "      <td>7.9</td>\n",
       "      <td>7.8</td>\n",
       "      <td>8.2</td>\n",
       "      <td>8.3</td>\n",
       "      <td>7.7</td>\n",
       "      <td>8.2</td>\n",
       "      <td>7.9</td>\n",
       "      <td>Action</td>\n",
       "      <td>936662225</td>\n",
       "      <td>2.068224e+09</td>\n",
       "    </tr>\n",
       "  </tbody>\n",
       "</table>\n",
       "<p>1 rows × 55 columns</p>\n",
       "</div>"
      ],
      "text/plain": [
       "   Movie_id                                Title  Rating  TotalVotes  \\\n",
       "79    38626  Star Wars: The Force Awakens (2015)     8.1      676732   \n",
       "\n",
       "   MetaCritic       Budget  Runtime CVotes10 CVotes09 CVotes08  ... Votes45A  \\\n",
       "79         81  245000000.0  136 min   155391   161810   166378  ...      7.9   \n",
       "\n",
       "   Votes45AM Votes45AF VotesIMDB Votes1000 VotesUS VotesnUS   genre  \\\n",
       "79       7.8       8.2       8.3       7.7     8.2      7.9  Action   \n",
       "\n",
       "     Domestic     Worldwide  \n",
       "79  936662225  2.068224e+09  \n",
       "\n",
       "[1 rows x 55 columns]"
      ]
     },
     "execution_count": 34,
     "metadata": {},
     "output_type": "execute_result"
    }
   ],
   "source": [
    "films_all.sort_values(\"Worldwide\", ascending=False).head(1)"
   ]
  },
  {
   "cell_type": "markdown",
   "id": "fdc9a7a9",
   "metadata": {},
   "source": [
    "5. How many films have a MetaCritic score of less than 75?\n",
    "\n",
    "_Note: to answer this question you'll have to fix the data type of the column first and you may need to deal with some non-numeric values!_"
   ]
  },
  {
   "cell_type": "code",
   "execution_count": 35,
   "id": "a19b4613",
   "metadata": {},
   "outputs": [
    {
     "name": "stderr",
     "output_type": "stream",
     "text": [
      "C:\\Users\\david\\AppData\\Local\\Temp\\ipykernel_32000\\1022525817.py:2: FutureWarning: Downcasting behavior in `replace` is deprecated and will be removed in a future version. To retain the old behavior, explicitly call `result.infer_objects(copy=False)`. To opt-in to the future behavior, set `pd.set_option('future.no_silent_downcasting', True)`\n",
      "  films_all[\"MetaCritic\"].replace(\"\", 0).astype(int)\n"
     ]
    },
    {
     "data": {
      "text/plain": [
       "0      96\n",
       "1      82\n",
       "2      72\n",
       "3       0\n",
       "4      94\n",
       "       ..\n",
       "112    88\n",
       "113    72\n",
       "114    74\n",
       "115    65\n",
       "116    78\n",
       "Name: MetaCritic, Length: 117, dtype: int32"
      ]
     },
     "execution_count": 35,
     "metadata": {},
     "output_type": "execute_result"
    }
   ],
   "source": [
    "# either we assume empty strings are 0\n",
    "films_all[\"MetaCritic\"].replace(\"\", 0).astype(int)"
   ]
  },
  {
   "cell_type": "code",
   "execution_count": 36,
   "id": "b6bbea8b",
   "metadata": {},
   "outputs": [
    {
     "name": "stderr",
     "output_type": "stream",
     "text": [
      "C:\\Users\\david\\AppData\\Local\\Temp\\ipykernel_32000\\527310813.py:6: FutureWarning: Downcasting behavior in `replace` is deprecated and will be removed in a future version. To retain the old behavior, explicitly call `result.infer_objects(copy=False)`. To opt-in to the future behavior, set `pd.set_option('future.no_silent_downcasting', True)`\n",
      "  films_all[\"MetaCritic\"].replace(\"\", np.nan).astype(float)\n"
     ]
    },
    {
     "data": {
      "text/plain": [
       "0      96.0\n",
       "1      82.0\n",
       "2      72.0\n",
       "3       NaN\n",
       "4      94.0\n",
       "       ... \n",
       "112    88.0\n",
       "113    72.0\n",
       "114    74.0\n",
       "115    65.0\n",
       "116    78.0\n",
       "Name: MetaCritic, Length: 117, dtype: float64"
      ]
     },
     "execution_count": 36,
     "metadata": {},
     "output_type": "execute_result"
    }
   ],
   "source": [
    "# or we could replace them with a NULL value explicitly\n",
    "# NOTE: in pandas, the default integer type doesn't support NULL values\n",
    "# so we could convert the column to a float\n",
    "import numpy as np\n",
    "\n",
    "films_all[\"MetaCritic\"].replace(\"\", np.nan).astype(float)"
   ]
  },
  {
   "cell_type": "markdown",
   "id": "d3d6eb2b",
   "metadata": {},
   "source": [
    "Let's use the NULL approach since we don't know if those missing scores actually mean the film scored 0."
   ]
  },
  {
   "cell_type": "code",
   "execution_count": 37,
   "id": "73380dde",
   "metadata": {},
   "outputs": [
    {
     "name": "stderr",
     "output_type": "stream",
     "text": [
      "C:\\Users\\david\\AppData\\Local\\Temp\\ipykernel_32000\\3371790018.py:1: FutureWarning: Downcasting behavior in `replace` is deprecated and will be removed in a future version. To retain the old behavior, explicitly call `result.infer_objects(copy=False)`. To opt-in to the future behavior, set `pd.set_option('future.no_silent_downcasting', True)`\n",
      "  films_all[\"MetaCritic\"] = films_all[\"MetaCritic\"].replace(\"\", np.nan).astype(float)\n"
     ]
    }
   ],
   "source": [
    "films_all[\"MetaCritic\"] = films_all[\"MetaCritic\"].replace(\"\", np.nan).astype(float)"
   ]
  },
  {
   "cell_type": "code",
   "execution_count": 38,
   "id": "3bf6e405",
   "metadata": {},
   "outputs": [
    {
     "data": {
      "text/plain": [
       "45"
      ]
     },
     "execution_count": 38,
     "metadata": {},
     "output_type": "execute_result"
    }
   ],
   "source": [
    "under_75 = films_all[films_all[\"MetaCritic\"] < 75]\n",
    "len(under_75)"
   ]
  },
  {
   "cell_type": "markdown",
   "id": "d6aed67f",
   "metadata": {},
   "source": [
    "6. Which genre has the highest total domestic earnings?"
   ]
  },
  {
   "cell_type": "code",
   "execution_count": 39,
   "id": "38c49732",
   "metadata": {},
   "outputs": [
    {
     "data": {
      "text/plain": [
       "genre\n",
       "Action       7142845464\n",
       "Animation    2927485608\n",
       "Adventure    1848562214\n",
       "Drama        1463912296\n",
       "Biography    1301951994\n",
       "Crime         603980443\n",
       "Comedy        498684743\n",
       "Mystery       128012934\n",
       "Name: Domestic, dtype: int64"
      ]
     },
     "execution_count": 39,
     "metadata": {},
     "output_type": "execute_result"
    }
   ],
   "source": [
    "films_all.groupby(\"genre\")[\"Domestic\"].sum().sort_values(ascending=False)"
   ]
  },
  {
   "cell_type": "markdown",
   "id": "33613e37",
   "metadata": {},
   "source": [
    "7. Convert the `Runtime` column to numeric.\n",
    "\n",
    "_Hint: You'll have to perform some string manipulation on it before you can do this._"
   ]
  },
  {
   "cell_type": "code",
   "execution_count": 40,
   "id": "008ccbab",
   "metadata": {},
   "outputs": [
    {
     "data": {
      "text/html": [
       "<div>\n",
       "<style scoped>\n",
       "    .dataframe tbody tr th:only-of-type {\n",
       "        vertical-align: middle;\n",
       "    }\n",
       "\n",
       "    .dataframe tbody tr th {\n",
       "        vertical-align: top;\n",
       "    }\n",
       "\n",
       "    .dataframe thead th {\n",
       "        text-align: right;\n",
       "    }\n",
       "</style>\n",
       "<table border=\"1\" class=\"dataframe\">\n",
       "  <thead>\n",
       "    <tr style=\"text-align: right;\">\n",
       "      <th></th>\n",
       "      <th>Runtime</th>\n",
       "      <th>runtime_mins</th>\n",
       "    </tr>\n",
       "  </thead>\n",
       "  <tbody>\n",
       "    <tr>\n",
       "      <th>0</th>\n",
       "      <td>134 min</td>\n",
       "      <td>134.0</td>\n",
       "    </tr>\n",
       "    <tr>\n",
       "      <th>1</th>\n",
       "      <td>94 min</td>\n",
       "      <td>94.0</td>\n",
       "    </tr>\n",
       "    <tr>\n",
       "      <th>2</th>\n",
       "      <td>100 min</td>\n",
       "      <td>100.0</td>\n",
       "    </tr>\n",
       "    <tr>\n",
       "      <th>3</th>\n",
       "      <td>123 min</td>\n",
       "      <td>123.0</td>\n",
       "    </tr>\n",
       "    <tr>\n",
       "      <th>4</th>\n",
       "      <td>127 min</td>\n",
       "      <td>127.0</td>\n",
       "    </tr>\n",
       "  </tbody>\n",
       "</table>\n",
       "</div>"
      ],
      "text/plain": [
       "   Runtime  runtime_mins\n",
       "0  134 min         134.0\n",
       "1   94 min          94.0\n",
       "2  100 min         100.0\n",
       "3  123 min         123.0\n",
       "4  127 min         127.0"
      ]
     },
     "execution_count": 40,
     "metadata": {},
     "output_type": "execute_result"
    }
   ],
   "source": [
    "films_all[\"runtime_mins\"] = films_all[\"Runtime\"].replace(\"\", np.nan).str[:-4].astype(float)\n",
    "films_all[[\"Runtime\", \"runtime_mins\"]].head()"
   ]
  },
  {
   "cell_type": "markdown",
   "id": "f0aac822",
   "metadata": {},
   "source": [
    "8. Now find the genre with the highest **median** runtime."
   ]
  },
  {
   "cell_type": "code",
   "execution_count": 41,
   "id": "3e438f51",
   "metadata": {},
   "outputs": [
    {
     "data": {
      "text/plain": [
       "genre\n",
       "Mystery      138.0\n",
       "Adventure    135.0\n",
       "Action       131.0\n",
       "Biography    127.0\n",
       "Drama        126.0\n",
       "Crime        125.0\n",
       "Comedy       119.0\n",
       "Animation    103.0\n",
       "Name: runtime_mins, dtype: float64"
      ]
     },
     "execution_count": 41,
     "metadata": {},
     "output_type": "execute_result"
    }
   ],
   "source": [
    "films_all.groupby(\"genre\")[\"runtime_mins\"].median().sort_values(ascending=False)"
   ]
  },
  {
   "cell_type": "markdown",
   "id": "0cfbef53",
   "metadata": {},
   "source": [
    "<h1 style=\"color: #fcd805\">Exercise: pub names</h1>\n",
    "\n",
    "Let's do some open-ended data analysis with `pandas`!\n",
    "\n",
    "We're going to find out what the most common pub name is in the UK.\n",
    "\n",
    "1. Read in the file `open_pubs.csv` from the `data` folder into a `pandas` `DataFrame` (data originally from https://www.getthedata.com/open-pubs)."
   ]
  },
  {
   "cell_type": "code",
   "execution_count": 42,
   "id": "9b36ff47",
   "metadata": {},
   "outputs": [
    {
     "data": {
      "text/html": [
       "<div>\n",
       "<style scoped>\n",
       "    .dataframe tbody tr th:only-of-type {\n",
       "        vertical-align: middle;\n",
       "    }\n",
       "\n",
       "    .dataframe tbody tr th {\n",
       "        vertical-align: top;\n",
       "    }\n",
       "\n",
       "    .dataframe thead th {\n",
       "        text-align: right;\n",
       "    }\n",
       "</style>\n",
       "<table border=\"1\" class=\"dataframe\">\n",
       "  <thead>\n",
       "    <tr style=\"text-align: right;\">\n",
       "      <th></th>\n",
       "      <th>22</th>\n",
       "      <th>Anchor Inn</th>\n",
       "      <th>Upper Street, Stratford St Mary, COLCHESTER</th>\n",
       "      <th>CO7 6LW</th>\n",
       "      <th>604749</th>\n",
       "      <th>234404</th>\n",
       "      <th>51.970379</th>\n",
       "      <th>0.979340</th>\n",
       "      <th>Babergh</th>\n",
       "    </tr>\n",
       "  </thead>\n",
       "  <tbody>\n",
       "    <tr>\n",
       "      <th>0</th>\n",
       "      <td>36</td>\n",
       "      <td>Ark Bar Restaurant</td>\n",
       "      <td>Ark Bar And Restaurant, Cattawade Street, Bran...</td>\n",
       "      <td>CO11 1RH</td>\n",
       "      <td>610194</td>\n",
       "      <td>233329</td>\n",
       "      <td>51.958698</td>\n",
       "      <td>1.057832</td>\n",
       "      <td>Babergh</td>\n",
       "    </tr>\n",
       "    <tr>\n",
       "      <th>1</th>\n",
       "      <td>74</td>\n",
       "      <td>Black Boy</td>\n",
       "      <td>The Lady Elizabeth, 7 Market Hill, SUDBURY, Su...</td>\n",
       "      <td>CO10 2EA</td>\n",
       "      <td>587334</td>\n",
       "      <td>241316</td>\n",
       "      <td>52.038595</td>\n",
       "      <td>0.729915</td>\n",
       "      <td>Babergh</td>\n",
       "    </tr>\n",
       "    <tr>\n",
       "      <th>2</th>\n",
       "      <td>75</td>\n",
       "      <td>Black Horse</td>\n",
       "      <td>Lower Street, Stratford St Mary, COLCHESTER</td>\n",
       "      <td>CO7 6JS</td>\n",
       "      <td>622675</td>\n",
       "      <td>-5527598</td>\n",
       "      <td>\\N</td>\n",
       "      <td>\\N</td>\n",
       "      <td>Babergh</td>\n",
       "    </tr>\n",
       "    <tr>\n",
       "      <th>3</th>\n",
       "      <td>76</td>\n",
       "      <td>Black Lion</td>\n",
       "      <td>Lion Road, Glemsford, SUDBURY</td>\n",
       "      <td>CO10 7RF</td>\n",
       "      <td>622675</td>\n",
       "      <td>-5527598</td>\n",
       "      <td>\\N</td>\n",
       "      <td>\\N</td>\n",
       "      <td>Babergh</td>\n",
       "    </tr>\n",
       "    <tr>\n",
       "      <th>4</th>\n",
       "      <td>97</td>\n",
       "      <td>Brewers Arms</td>\n",
       "      <td>The Brewers Arms, Bower House Tye, Polstead, C...</td>\n",
       "      <td>CO6 5BZ</td>\n",
       "      <td>598743</td>\n",
       "      <td>240655</td>\n",
       "      <td>52.028694</td>\n",
       "      <td>0.895650</td>\n",
       "      <td>Babergh</td>\n",
       "    </tr>\n",
       "  </tbody>\n",
       "</table>\n",
       "</div>"
      ],
      "text/plain": [
       "   22          Anchor Inn        Upper Street, Stratford St Mary, COLCHESTER  \\\n",
       "0  36  Ark Bar Restaurant  Ark Bar And Restaurant, Cattawade Street, Bran...   \n",
       "1  74           Black Boy  The Lady Elizabeth, 7 Market Hill, SUDBURY, Su...   \n",
       "2  75         Black Horse        Lower Street, Stratford St Mary, COLCHESTER   \n",
       "3  76          Black Lion                      Lion Road, Glemsford, SUDBURY   \n",
       "4  97        Brewers Arms  The Brewers Arms, Bower House Tye, Polstead, C...   \n",
       "\n",
       "    CO7 6LW  604749   234404  51.970379  0.979340  Babergh  \n",
       "0  CO11 1RH  610194   233329  51.958698  1.057832  Babergh  \n",
       "1  CO10 2EA  587334   241316  52.038595  0.729915  Babergh  \n",
       "2   CO7 6JS  622675 -5527598         \\N        \\N  Babergh  \n",
       "3  CO10 7RF  622675 -5527598         \\N        \\N  Babergh  \n",
       "4   CO6 5BZ  598743   240655  52.028694  0.895650  Babergh  "
      ]
     },
     "execution_count": 42,
     "metadata": {},
     "output_type": "execute_result"
    }
   ],
   "source": [
    "pubs = pd.read_csv(\"./data/open_pubs.csv\")\n",
    "pubs.head()"
   ]
  },
  {
   "cell_type": "markdown",
   "id": "d8b5dff5",
   "metadata": {},
   "source": [
    "2. Looks like there are no column headers!\n",
    "\n",
    "Here is the data dictionary for the dataset:\n",
    "\n",
    "|Field|Data type|Comments|\n",
    "|---|---|---|\n",
    "|fsa_id|int|Food Standard Agency's ID for this pub.|\n",
    "|name|string|Name of the pub.|\n",
    "|address|string|Address fields separated by commas.|\n",
    "|postcode|string|Postcode of the pub.|\n",
    "|easting|int| |\n",
    "|northing|int| |\n",
    "|latitude|decimal| |\n",
    "|longitude|decimal| |\n",
    "|local_authority|string|Local authority this pub falls under.|\n",
    "\n",
    "Read the documentation for the `read_csv` method and figure out how to add column names to the data when you read it in."
   ]
  },
  {
   "cell_type": "code",
   "execution_count": 43,
   "id": "2ecc8292",
   "metadata": {},
   "outputs": [
    {
     "data": {
      "text/html": [
       "<div>\n",
       "<style scoped>\n",
       "    .dataframe tbody tr th:only-of-type {\n",
       "        vertical-align: middle;\n",
       "    }\n",
       "\n",
       "    .dataframe tbody tr th {\n",
       "        vertical-align: top;\n",
       "    }\n",
       "\n",
       "    .dataframe thead th {\n",
       "        text-align: right;\n",
       "    }\n",
       "</style>\n",
       "<table border=\"1\" class=\"dataframe\">\n",
       "  <thead>\n",
       "    <tr style=\"text-align: right;\">\n",
       "      <th></th>\n",
       "      <th>id</th>\n",
       "      <th>name</th>\n",
       "      <th>address</th>\n",
       "      <th>postcode</th>\n",
       "      <th>easting</th>\n",
       "      <th>northing</th>\n",
       "      <th>latitude</th>\n",
       "      <th>longitude</th>\n",
       "      <th>local_authority</th>\n",
       "    </tr>\n",
       "  </thead>\n",
       "  <tbody>\n",
       "    <tr>\n",
       "      <th>0</th>\n",
       "      <td>22</td>\n",
       "      <td>Anchor Inn</td>\n",
       "      <td>Upper Street, Stratford St Mary, COLCHESTER</td>\n",
       "      <td>CO7 6LW</td>\n",
       "      <td>604749</td>\n",
       "      <td>234404</td>\n",
       "      <td>51.970379</td>\n",
       "      <td>0.979340</td>\n",
       "      <td>Babergh</td>\n",
       "    </tr>\n",
       "    <tr>\n",
       "      <th>1</th>\n",
       "      <td>36</td>\n",
       "      <td>Ark Bar Restaurant</td>\n",
       "      <td>Ark Bar And Restaurant, Cattawade Street, Bran...</td>\n",
       "      <td>CO11 1RH</td>\n",
       "      <td>610194</td>\n",
       "      <td>233329</td>\n",
       "      <td>51.958698</td>\n",
       "      <td>1.057832</td>\n",
       "      <td>Babergh</td>\n",
       "    </tr>\n",
       "    <tr>\n",
       "      <th>2</th>\n",
       "      <td>74</td>\n",
       "      <td>Black Boy</td>\n",
       "      <td>The Lady Elizabeth, 7 Market Hill, SUDBURY, Su...</td>\n",
       "      <td>CO10 2EA</td>\n",
       "      <td>587334</td>\n",
       "      <td>241316</td>\n",
       "      <td>52.038595</td>\n",
       "      <td>0.729915</td>\n",
       "      <td>Babergh</td>\n",
       "    </tr>\n",
       "    <tr>\n",
       "      <th>3</th>\n",
       "      <td>75</td>\n",
       "      <td>Black Horse</td>\n",
       "      <td>Lower Street, Stratford St Mary, COLCHESTER</td>\n",
       "      <td>CO7 6JS</td>\n",
       "      <td>622675</td>\n",
       "      <td>-5527598</td>\n",
       "      <td>\\N</td>\n",
       "      <td>\\N</td>\n",
       "      <td>Babergh</td>\n",
       "    </tr>\n",
       "    <tr>\n",
       "      <th>4</th>\n",
       "      <td>76</td>\n",
       "      <td>Black Lion</td>\n",
       "      <td>Lion Road, Glemsford, SUDBURY</td>\n",
       "      <td>CO10 7RF</td>\n",
       "      <td>622675</td>\n",
       "      <td>-5527598</td>\n",
       "      <td>\\N</td>\n",
       "      <td>\\N</td>\n",
       "      <td>Babergh</td>\n",
       "    </tr>\n",
       "  </tbody>\n",
       "</table>\n",
       "</div>"
      ],
      "text/plain": [
       "   id                name                                            address  \\\n",
       "0  22          Anchor Inn        Upper Street, Stratford St Mary, COLCHESTER   \n",
       "1  36  Ark Bar Restaurant  Ark Bar And Restaurant, Cattawade Street, Bran...   \n",
       "2  74           Black Boy  The Lady Elizabeth, 7 Market Hill, SUDBURY, Su...   \n",
       "3  75         Black Horse        Lower Street, Stratford St Mary, COLCHESTER   \n",
       "4  76          Black Lion                      Lion Road, Glemsford, SUDBURY   \n",
       "\n",
       "   postcode  easting  northing   latitude longitude local_authority  \n",
       "0   CO7 6LW   604749    234404  51.970379  0.979340         Babergh  \n",
       "1  CO11 1RH   610194    233329  51.958698  1.057832         Babergh  \n",
       "2  CO10 2EA   587334    241316  52.038595  0.729915         Babergh  \n",
       "3   CO7 6JS   622675  -5527598         \\N        \\N         Babergh  \n",
       "4  CO10 7RF   622675  -5527598         \\N        \\N         Babergh  "
      ]
     },
     "execution_count": 43,
     "metadata": {},
     "output_type": "execute_result"
    }
   ],
   "source": [
    "pubs = pd.read_csv(\"./data/open_pubs.csv\",\n",
    "                   header=None,\n",
    "                   names=[\"id\", \"name\", \"address\", \"postcode\",\n",
    "                          \"easting\", \"northing\", \"latitude\",\n",
    "                          \"longitude\", \"local_authority\"])\n",
    "pubs.head()"
   ]
  },
  {
   "cell_type": "markdown",
   "id": "5fc12ff0",
   "metadata": {},
   "source": [
    "3. Check for any missing data. Drop any row with no name, since we need values from that column."
   ]
  },
  {
   "cell_type": "code",
   "execution_count": 44,
   "id": "238f6ecd",
   "metadata": {},
   "outputs": [
    {
     "data": {
      "text/plain": [
       "id                 0\n",
       "name               0\n",
       "address            0\n",
       "postcode           0\n",
       "easting            0\n",
       "northing           0\n",
       "latitude           0\n",
       "longitude          0\n",
       "local_authority    0\n",
       "dtype: int64"
      ]
     },
     "execution_count": 44,
     "metadata": {},
     "output_type": "execute_result"
    }
   ],
   "source": [
    "pubs.isnull().sum()"
   ]
  },
  {
   "cell_type": "markdown",
   "id": "5f0ecd07",
   "metadata": {},
   "source": [
    "4. Convert the `name` column (or whatever you called it) to the correct `string` type."
   ]
  },
  {
   "cell_type": "code",
   "execution_count": 45,
   "id": "6969be30",
   "metadata": {},
   "outputs": [
    {
     "data": {
      "text/plain": [
       "id                  int64\n",
       "name               object\n",
       "address            object\n",
       "postcode           object\n",
       "easting             int64\n",
       "northing            int64\n",
       "latitude           object\n",
       "longitude          object\n",
       "local_authority    object\n",
       "dtype: object"
      ]
     },
     "execution_count": 45,
     "metadata": {},
     "output_type": "execute_result"
    }
   ],
   "source": [
    "pubs.dtypes"
   ]
  },
  {
   "cell_type": "code",
   "execution_count": 46,
   "id": "c07c127c",
   "metadata": {},
   "outputs": [],
   "source": [
    "pubs[\"name\"] = pubs[\"name\"].astype(\"string\")"
   ]
  },
  {
   "cell_type": "markdown",
   "id": "f4b030ed",
   "metadata": {},
   "source": [
    "5. Now convert the values in the `name` column to lowercase so that names like \"The King's Arms\" and \"The king's arms\" are treated as the same name."
   ]
  },
  {
   "cell_type": "code",
   "execution_count": 47,
   "id": "e98dbdb3",
   "metadata": {},
   "outputs": [],
   "source": [
    "pubs[\"name\"] = pubs[\"name\"].str.lower()"
   ]
  },
  {
   "cell_type": "markdown",
   "id": "f3ee727f",
   "metadata": {},
   "source": [
    "6. Use the `.str.strip()` method to remove any trailing whitespace from the `name` column."
   ]
  },
  {
   "cell_type": "code",
   "execution_count": 48,
   "id": "1bc51262",
   "metadata": {},
   "outputs": [],
   "source": [
    "pubs[\"name\"] = pubs[\"name\"].str.strip()"
   ]
  },
  {
   "cell_type": "markdown",
   "id": "f2b3e2a7",
   "metadata": {},
   "source": [
    "7. Now use `.str.replace` to remove the word \"the\" from the pub names, so that a pub called \"The King's Head\" will be treated as having the same name as one that's simply called \"King's Head\".\n",
    "\n",
    "*Tip: take care not to replace words that **contain** the word `the` like \"theatre\"*"
   ]
  },
  {
   "cell_type": "code",
   "execution_count": 49,
   "id": "f04a5e11",
   "metadata": {},
   "outputs": [],
   "source": [
    "pubs[\"name\"] = pubs[\"name\"].str.replace(\"the \", \"\")"
   ]
  },
  {
   "cell_type": "markdown",
   "id": "577abe5d",
   "metadata": {},
   "source": [
    "8. Use your `name` column to find the most common pub name in the UK."
   ]
  },
  {
   "cell_type": "code",
   "execution_count": 50,
   "id": "7a24970b",
   "metadata": {},
   "outputs": [
    {
     "data": {
      "text/plain": [
       "name\n",
       "red lion                334\n",
       "royal oak               286\n",
       "crown inn               198\n",
       "new inn                 181\n",
       "white hart              165\n",
       "kings arms              157\n",
       "royal british legion    148\n",
       "ship inn                140\n",
       "kings head              130\n",
       "plough inn              129\n",
       "Name: count, dtype: Int64"
      ]
     },
     "execution_count": 50,
     "metadata": {},
     "output_type": "execute_result"
    }
   ],
   "source": [
    "pubs[\"name\"].value_counts().head(10)"
   ]
  },
  {
   "cell_type": "markdown",
   "id": "a6ac5d5e",
   "metadata": {},
   "source": [
    "BONUS: which local authority has the most of these pubs (i.e. the most pubs that have the most common name you found in question 8)?"
   ]
  },
  {
   "cell_type": "code",
   "execution_count": 51,
   "id": "40cd785a",
   "metadata": {},
   "outputs": [
    {
     "data": {
      "text/plain": [
       "local_authority\n",
       "West Northamptonshire    10\n",
       "Buckinghamshire          10\n",
       "East Lindsey              8\n",
       "Cherwell                  7\n",
       "Wiltshire                 7\n",
       "Name: count, dtype: int64"
      ]
     },
     "execution_count": 51,
     "metadata": {},
     "output_type": "execute_result"
    }
   ],
   "source": [
    "pubs.loc[pubs[\"name\"] == \"red lion\", \"local_authority\"].value_counts().head()"
   ]
  },
  {
   "cell_type": "markdown",
   "id": "4d4198a0",
   "metadata": {},
   "source": [
    "BONUS: how many unique pub names are there in the data? That is, pub names that appear exactly once."
   ]
  },
  {
   "cell_type": "code",
   "execution_count": 52,
   "id": "2d126066",
   "metadata": {},
   "outputs": [
    {
     "data": {
      "text/plain": [
       "name\n",
       "red lion                                    334\n",
       "royal oak                                   286\n",
       "crown inn                                   198\n",
       "new inn                                     181\n",
       "white hart                                  165\n",
       "                                           ... \n",
       "main stage                                    1\n",
       "marys                                         1\n",
       "mynyddygarreg r f c                           1\n",
       "nantgaredig athletic rugby football club      1\n",
       "y tai                                         1\n",
       "Name: count, Length: 34111, dtype: Int64"
      ]
     },
     "execution_count": 52,
     "metadata": {},
     "output_type": "execute_result"
    }
   ],
   "source": [
    "pub_counts = pubs[\"name\"].value_counts()\n",
    "pub_counts"
   ]
  },
  {
   "cell_type": "markdown",
   "id": "da1fe84f",
   "metadata": {},
   "source": [
    "This is a `pandas` `Series`. We can either filter it directly:"
   ]
  },
  {
   "cell_type": "code",
   "execution_count": 53,
   "id": "3f42e7ac",
   "metadata": {},
   "outputs": [
    {
     "data": {
      "text/plain": [
       "name\n",
       "colville house                              1\n",
       "carlton road sports and social club         1\n",
       "crown inn snape                             1\n",
       "felixstowe bowls club                       1\n",
       "deben bar private members club              1\n",
       "                                           ..\n",
       "main stage                                  1\n",
       "marys                                       1\n",
       "mynyddygarreg r f c                         1\n",
       "nantgaredig athletic rugby football club    1\n",
       "y tai                                       1\n",
       "Name: count, Length: 30728, dtype: Int64"
      ]
     },
     "execution_count": 53,
     "metadata": {},
     "output_type": "execute_result"
    }
   ],
   "source": [
    "pub_counts[pub_counts == 1]"
   ]
  },
  {
   "cell_type": "markdown",
   "id": "e401ea23",
   "metadata": {},
   "source": [
    "Or we could explicitly convert it to a `DataFrame` first.\n",
    "\n",
    "The `.reset_index` method converts the index of the `Series` to a column (which looks like the first column above, but it's technically not a column). This makes a `DataFrame`:"
   ]
  },
  {
   "cell_type": "code",
   "execution_count": 54,
   "id": "1d63b591",
   "metadata": {},
   "outputs": [
    {
     "data": {
      "text/html": [
       "<div>\n",
       "<style scoped>\n",
       "    .dataframe tbody tr th:only-of-type {\n",
       "        vertical-align: middle;\n",
       "    }\n",
       "\n",
       "    .dataframe tbody tr th {\n",
       "        vertical-align: top;\n",
       "    }\n",
       "\n",
       "    .dataframe thead th {\n",
       "        text-align: right;\n",
       "    }\n",
       "</style>\n",
       "<table border=\"1\" class=\"dataframe\">\n",
       "  <thead>\n",
       "    <tr style=\"text-align: right;\">\n",
       "      <th></th>\n",
       "      <th>name</th>\n",
       "      <th>count</th>\n",
       "    </tr>\n",
       "  </thead>\n",
       "  <tbody>\n",
       "    <tr>\n",
       "      <th>0</th>\n",
       "      <td>red lion</td>\n",
       "      <td>334</td>\n",
       "    </tr>\n",
       "    <tr>\n",
       "      <th>1</th>\n",
       "      <td>royal oak</td>\n",
       "      <td>286</td>\n",
       "    </tr>\n",
       "    <tr>\n",
       "      <th>2</th>\n",
       "      <td>crown inn</td>\n",
       "      <td>198</td>\n",
       "    </tr>\n",
       "    <tr>\n",
       "      <th>3</th>\n",
       "      <td>new inn</td>\n",
       "      <td>181</td>\n",
       "    </tr>\n",
       "    <tr>\n",
       "      <th>4</th>\n",
       "      <td>white hart</td>\n",
       "      <td>165</td>\n",
       "    </tr>\n",
       "  </tbody>\n",
       "</table>\n",
       "</div>"
      ],
      "text/plain": [
       "         name  count\n",
       "0    red lion    334\n",
       "1   royal oak    286\n",
       "2   crown inn    198\n",
       "3     new inn    181\n",
       "4  white hart    165"
      ]
     },
     "execution_count": 54,
     "metadata": {},
     "output_type": "execute_result"
    }
   ],
   "source": [
    "pub_counts_df = pub_counts.reset_index()\n",
    "pub_counts_df.head()"
   ]
  },
  {
   "cell_type": "code",
   "execution_count": 55,
   "id": "e56dd878",
   "metadata": {},
   "outputs": [
    {
     "data": {
      "text/html": [
       "<div>\n",
       "<style scoped>\n",
       "    .dataframe tbody tr th:only-of-type {\n",
       "        vertical-align: middle;\n",
       "    }\n",
       "\n",
       "    .dataframe tbody tr th {\n",
       "        vertical-align: top;\n",
       "    }\n",
       "\n",
       "    .dataframe thead th {\n",
       "        text-align: right;\n",
       "    }\n",
       "</style>\n",
       "<table border=\"1\" class=\"dataframe\">\n",
       "  <thead>\n",
       "    <tr style=\"text-align: right;\">\n",
       "      <th></th>\n",
       "      <th>name</th>\n",
       "      <th>count</th>\n",
       "    </tr>\n",
       "  </thead>\n",
       "  <tbody>\n",
       "    <tr>\n",
       "      <th>3383</th>\n",
       "      <td>colville house</td>\n",
       "      <td>1</td>\n",
       "    </tr>\n",
       "    <tr>\n",
       "      <th>3384</th>\n",
       "      <td>carlton road sports and social club</td>\n",
       "      <td>1</td>\n",
       "    </tr>\n",
       "    <tr>\n",
       "      <th>3385</th>\n",
       "      <td>crown inn snape</td>\n",
       "      <td>1</td>\n",
       "    </tr>\n",
       "    <tr>\n",
       "      <th>3386</th>\n",
       "      <td>felixstowe bowls club</td>\n",
       "      <td>1</td>\n",
       "    </tr>\n",
       "    <tr>\n",
       "      <th>3387</th>\n",
       "      <td>deben bar private members club</td>\n",
       "      <td>1</td>\n",
       "    </tr>\n",
       "    <tr>\n",
       "      <th>...</th>\n",
       "      <td>...</td>\n",
       "      <td>...</td>\n",
       "    </tr>\n",
       "    <tr>\n",
       "      <th>34106</th>\n",
       "      <td>main stage</td>\n",
       "      <td>1</td>\n",
       "    </tr>\n",
       "    <tr>\n",
       "      <th>34107</th>\n",
       "      <td>marys</td>\n",
       "      <td>1</td>\n",
       "    </tr>\n",
       "    <tr>\n",
       "      <th>34108</th>\n",
       "      <td>mynyddygarreg r f c</td>\n",
       "      <td>1</td>\n",
       "    </tr>\n",
       "    <tr>\n",
       "      <th>34109</th>\n",
       "      <td>nantgaredig athletic rugby football club</td>\n",
       "      <td>1</td>\n",
       "    </tr>\n",
       "    <tr>\n",
       "      <th>34110</th>\n",
       "      <td>y tai</td>\n",
       "      <td>1</td>\n",
       "    </tr>\n",
       "  </tbody>\n",
       "</table>\n",
       "<p>30728 rows × 2 columns</p>\n",
       "</div>"
      ],
      "text/plain": [
       "                                           name  count\n",
       "3383                             colville house      1\n",
       "3384        carlton road sports and social club      1\n",
       "3385                            crown inn snape      1\n",
       "3386                      felixstowe bowls club      1\n",
       "3387             deben bar private members club      1\n",
       "...                                         ...    ...\n",
       "34106                                main stage      1\n",
       "34107                                     marys      1\n",
       "34108                       mynyddygarreg r f c      1\n",
       "34109  nantgaredig athletic rugby football club      1\n",
       "34110                                     y tai      1\n",
       "\n",
       "[30728 rows x 2 columns]"
      ]
     },
     "execution_count": 55,
     "metadata": {},
     "output_type": "execute_result"
    }
   ],
   "source": [
    "pub_counts_df[pub_counts_df[\"count\"] == 1]"
   ]
  }
 ],
 "metadata": {
  "kernelspec": {
   "display_name": "Python 3 (ipykernel)",
   "language": "python",
   "name": "python3"
  },
  "language_info": {
   "codemirror_mode": {
    "name": "ipython",
    "version": 3
   },
   "file_extension": ".py",
   "mimetype": "text/x-python",
   "name": "python",
   "nbconvert_exporter": "python",
   "pygments_lexer": "ipython3",
   "version": "3.12.7"
  }
 },
 "nbformat": 4,
 "nbformat_minor": 5
}
