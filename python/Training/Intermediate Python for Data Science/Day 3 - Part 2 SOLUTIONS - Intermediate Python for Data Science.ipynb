{
 "cells": [
  {
   "cell_type": "markdown",
   "id": "ad746c88",
   "metadata": {},
   "source": [
    "# Object-oriented programming in Python"
   ]
  },
  {
   "cell_type": "markdown",
   "id": "ceac5f2c",
   "metadata": {},
   "source": [
    "<h1 style=\"color: #fcd805\">Exercise: Creating classes in Python</h1>\n",
    "\n",
    "1. Create an extended version of the `BankAccount` class, which includes:\n",
    "\n",
    "- an account number\n",
    "- a sort code\n",
    "- a Boolean for whether or not it's a joint account\n",
    "\n",
    "Create an instance of your class and verify that you can see these new attributes."
   ]
  },
  {
   "cell_type": "code",
   "execution_count": 1,
   "id": "b24e9028",
   "metadata": {},
   "outputs": [],
   "source": [
    "class BankAccount:\n",
    "    \n",
    "    def __init__(self, owner, balance, account_number, sort_code, is_joint_account=False):\n",
    "        self.owner = owner\n",
    "        self.balance = balance\n",
    "        self.account_number = account_number\n",
    "        self.sort_code = sort_code\n",
    "        self.is_joint_account = is_joint_account\n",
    "        \n",
    "    def print_balance(self):\n",
    "        print(f\"The current balance is {self.balance}\")"
   ]
  },
  {
   "cell_type": "code",
   "execution_count": 2,
   "id": "c9c36be5",
   "metadata": {},
   "outputs": [
    {
     "data": {
      "text/plain": [
       "{'owner': 'David',\n",
       " 'balance': 10000,\n",
       " 'account_number': '123 456 789',\n",
       " 'sort_code': '12-34-56',\n",
       " 'is_joint_account': False}"
      ]
     },
     "execution_count": 2,
     "metadata": {},
     "output_type": "execute_result"
    }
   ],
   "source": [
    "account = BankAccount(\"David\", 10_000, \"123 456 789\", \"12-34-56\")\n",
    "account.__dict__"
   ]
  },
  {
   "cell_type": "markdown",
   "id": "39210174",
   "metadata": {},
   "source": [
    "2. Create an instance method called `.withdraw` which:\n",
    "\n",
    "- takes in an amount to withdraw\n",
    "- if the amount is less than or equal to the current balance, subtract the amount from the balance\n",
    "- otherwise, print a message to say the withdrawal is not possible\n",
    "- finally, print the new balance\n",
    "\n",
    "Create an instance of your class and verify that the `withdraw` function works as intended."
   ]
  },
  {
   "cell_type": "code",
   "execution_count": 3,
   "id": "104ee026",
   "metadata": {},
   "outputs": [],
   "source": [
    "class BankAccount:\n",
    "    \n",
    "    def __init__(self, owner, balance, account_number, sort_code, is_joint_account=False):\n",
    "        self.owner = owner\n",
    "        self.balance = balance\n",
    "        self.account_number = account_number\n",
    "        self.sort_code = sort_code\n",
    "        self.is_joint_account = is_joint_account\n",
    "    \n",
    "    def withdraw(self, amount):\n",
    "        if amount > 0 and self.balance >= amount:\n",
    "            self.balance -= amount\n",
    "            # let's not reinvent the wheel, call the class's own method!\n",
    "            self.print_balance()\n",
    "        else:\n",
    "            print(\"Amount must be greater than 0 but less than the account balance\")\n",
    "    \n",
    "    def print_balance(self):\n",
    "        print(f\"The current balance is {self.balance}\")"
   ]
  },
  {
   "cell_type": "code",
   "execution_count": 4,
   "id": "42993871",
   "metadata": {},
   "outputs": [
    {
     "name": "stdout",
     "output_type": "stream",
     "text": [
      "Amount must be greater than 0 but less than the account balance\n"
     ]
    }
   ],
   "source": [
    "account = BankAccount(\"David\", 10_000, \"123 456 789\", \"12-34-56\")\n",
    "\n",
    "account.withdraw(20_000)"
   ]
  },
  {
   "cell_type": "code",
   "execution_count": 5,
   "id": "9ef9d8ca",
   "metadata": {},
   "outputs": [
    {
     "name": "stdout",
     "output_type": "stream",
     "text": [
      "The current balance is 9600\n"
     ]
    }
   ],
   "source": [
    "account.withdraw(400)"
   ]
  },
  {
   "cell_type": "markdown",
   "id": "49794b8b",
   "metadata": {},
   "source": [
    "<h1 style=\"color: #fcd805\">Exercise: Magic methods in Python</h1>\n",
    "\n",
    "Here are some requirements for creating a `Loan` class. Use them to code the class and check that all requirements are met. \n",
    "\n",
    "1. It should contain the following attributes:\n",
    "\n",
    "- initial loan amount\n",
    "- remaining loan amount\n",
    "    - this should not be specified by the user, but set to be the same as the initial loan amount\n",
    "- interest rate\n",
    "- term (in years)\n",
    "\n",
    "2. The initial loan amount, interest rate and term should all be readonly.\n",
    "\n",
    "3. One `Loan` object is \"bigger\" than another if the initial loan amount is bigger. Implement all the necessary magic methods to make this work.\n",
    "\n",
    "4. When printed, a loan object should detail all its attributes: the initial loan amount, the interest rate, the term and what's remaining of the loan.\n",
    "\n",
    "5. BONUS: find the right magic method and implement it so that when the Python function `len()` is called on a `Loan`, the remaining loan amount is returned."
   ]
  },
  {
   "cell_type": "code",
   "execution_count": 6,
   "id": "7d1a743a",
   "metadata": {},
   "outputs": [],
   "source": [
    "class Loan:\n",
    "    \n",
    "    def __init__(self, initial_loan_amount, interest_rate, term):\n",
    "        self.__dict__[\"initial_loan_amount\"] = initial_loan_amount\n",
    "        self.remaining_loan_amount = initial_loan_amount\n",
    "        self.__dict__[\"interest_rate\"] = interest_rate\n",
    "        self.__dict__[\"term\"] = term\n",
    "        \n",
    "    def __setattr__(self, name, value):\n",
    "        if name == \"remaining_loan_amount\":\n",
    "            self.__dict__[\"remaining_loan_amount\"] = value\n",
    "        else:\n",
    "            print(f\"Cannot set {name}\")\n",
    "    \n",
    "    def __str__(self):\n",
    "        loan_string = \"Loan details:\\n\"\n",
    "        loan_string += f\"\\t{self.initial_loan_amount=}\\n\\t{self.interest_rate=}\"\n",
    "        loan_string += f\"\\n\\t{self.term=}\\n\\t{self.remaining_loan_amount=}\"\n",
    "        return loan_string\n",
    "    \n",
    "    def __lt__(self, other):\n",
    "        return self.initial_loan_amount < other.initial_loan_amount\n",
    "    \n",
    "    def __le__(self, other):\n",
    "        return self.initial_loan_amount <= other.initial_loan_amount\n",
    "    \n",
    "    def __gt__(self, other):\n",
    "        return self.initial_loan_amount > other.initial_loan_amount\n",
    "\n",
    "    def __ge__(self, other):\n",
    "        return self.initial_loan_amount >= other.initial_loan_amount\n",
    "    \n",
    "    def __len__(self):\n",
    "        return self.remaining_loan_amount"
   ]
  },
  {
   "cell_type": "code",
   "execution_count": 7,
   "id": "4084deb4",
   "metadata": {},
   "outputs": [
    {
     "name": "stdout",
     "output_type": "stream",
     "text": [
      "Loan details:\n",
      "\tself.initial_loan_amount=10000\n",
      "\tself.interest_rate=4.2\n",
      "\tself.term=10\n",
      "\tself.remaining_loan_amount=10000\n"
     ]
    }
   ],
   "source": [
    "loan = Loan(10_000, 4.2, 10)\n",
    "\n",
    "# testing __str__\n",
    "print(loan)"
   ]
  },
  {
   "cell_type": "code",
   "execution_count": 8,
   "id": "f65be8ce",
   "metadata": {},
   "outputs": [
    {
     "name": "stdout",
     "output_type": "stream",
     "text": [
      "Cannot set term\n"
     ]
    }
   ],
   "source": [
    "# testing readonly\n",
    "loan.term = 7"
   ]
  },
  {
   "cell_type": "code",
   "execution_count": 9,
   "id": "a1ac105d",
   "metadata": {},
   "outputs": [
    {
     "name": "stdout",
     "output_type": "stream",
     "text": [
      "False False True True\n"
     ]
    }
   ],
   "source": [
    "# testing comparisons\n",
    "loan_b = Loan(20_000, 7.3, 10)\n",
    "\n",
    "print(\n",
    "    loan > loan_b,\n",
    "    loan >= loan_b,\n",
    "    loan < loan_b,\n",
    "    loan <= loan_b\n",
    ")"
   ]
  },
  {
   "cell_type": "code",
   "execution_count": 10,
   "id": "657eeead",
   "metadata": {},
   "outputs": [
    {
     "data": {
      "text/plain": [
       "10000"
      ]
     },
     "execution_count": 10,
     "metadata": {},
     "output_type": "execute_result"
    }
   ],
   "source": [
    "# testing len\n",
    "len(loan)"
   ]
  }
 ],
 "metadata": {
  "kernelspec": {
   "display_name": "Python 3 (ipykernel)",
   "language": "python",
   "name": "python3"
  },
  "language_info": {
   "codemirror_mode": {
    "name": "ipython",
    "version": 3
   },
   "file_extension": ".py",
   "mimetype": "text/x-python",
   "name": "python",
   "nbconvert_exporter": "python",
   "pygments_lexer": "ipython3",
   "version": "3.11.5"
  }
 },
 "nbformat": 4,
 "nbformat_minor": 5
}
