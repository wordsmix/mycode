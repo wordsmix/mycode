{
 "cells": [
  {
   "cell_type": "markdown",
   "id": "c5165fb7",
   "metadata": {},
   "source": [
    "<h1 style=\"color: #fcd805\">Exercise: APIs</h1>\n",
    "\n",
    "1. Every endpoint in the Star Wars API supports searching. Read the documentation at https://swapi.dev/documentation#search and see if you can search the database to find **Darth Vader's height**."
   ]
  },
  {
   "cell_type": "code",
   "execution_count": 1,
   "id": "71c6d75a",
   "metadata": {},
   "outputs": [],
   "source": [
    "import requests\n",
    "\n",
    "url = \"https://swapi.dev/api/people/?search=darth\"\n",
    "\n",
    "response = requests.get(url)\n",
    "response.raise_for_status()"
   ]
  },
  {
   "cell_type": "code",
   "execution_count": 2,
   "id": "93d7c446",
   "metadata": {},
   "outputs": [
    {
     "data": {
      "text/plain": [
       "'202'"
      ]
     },
     "execution_count": 2,
     "metadata": {},
     "output_type": "execute_result"
    }
   ],
   "source": [
    "darth = response.json()\n",
    "darth[\"results\"][0][\"height\"]"
   ]
  },
  {
   "cell_type": "markdown",
   "id": "0900de2a",
   "metadata": {},
   "source": [
    "2. Find the **endpoint** (i.e. the specific url) responsible for returning data about starships.\n",
    "\n",
    "Use this endpoint to search the database and find the Millennium Falcon.\n",
    "\n",
    "What is its **cargo capacity**?"
   ]
  },
  {
   "cell_type": "code",
   "execution_count": 3,
   "id": "52e69fde",
   "metadata": {},
   "outputs": [],
   "source": [
    "url = \"https://swapi.dev/api/starships?search=millennium\"\n",
    "\n",
    "response = requests.get(url)\n",
    "response.raise_for_status()"
   ]
  },
  {
   "cell_type": "code",
   "execution_count": 4,
   "id": "63293048",
   "metadata": {},
   "outputs": [
    {
     "data": {
      "text/plain": [
       "'100000'"
      ]
     },
     "execution_count": 4,
     "metadata": {},
     "output_type": "execute_result"
    }
   ],
   "source": [
    "falcon = response.json()\n",
    "falcon[\"results\"][0][\"cargo_capacity\"]"
   ]
  },
  {
   "cell_type": "markdown",
   "id": "efb28225",
   "metadata": {},
   "source": [
    "3. Every starship record contains links to its pilots. Find the characters who have piloted the Millennium Falcon and print their names.\n",
    "\n",
    "*Hint: you may need to make further API calls...!*"
   ]
  },
  {
   "cell_type": "code",
   "execution_count": 5,
   "id": "dfbdaf25",
   "metadata": {},
   "outputs": [
    {
     "data": {
      "text/plain": [
       "['https://swapi.dev/api/people/13/',\n",
       " 'https://swapi.dev/api/people/14/',\n",
       " 'https://swapi.dev/api/people/25/',\n",
       " 'https://swapi.dev/api/people/31/']"
      ]
     },
     "execution_count": 5,
     "metadata": {},
     "output_type": "execute_result"
    }
   ],
   "source": [
    "pilots = falcon[\"results\"][0][\"pilots\"]\n",
    "\n",
    "pilots"
   ]
  },
  {
   "cell_type": "code",
   "execution_count": 6,
   "id": "7e3217b7-564a-45ee-be51-245e1b4ed40d",
   "metadata": {},
   "outputs": [
    {
     "name": "stdout",
     "output_type": "stream",
     "text": [
      "Chewbacca\n",
      "Han Solo\n",
      "Lando Calrissian\n",
      "Nien Nunb\n"
     ]
    }
   ],
   "source": [
    "for pilot in pilots:\n",
    "    person_request = requests.get(pilot)\n",
    "    person_request.raise_for_status()\n",
    "    person = person_request.json()\n",
    "    print(person[\"name\"])"
   ]
  },
  {
   "cell_type": "markdown",
   "id": "03f3c52e",
   "metadata": {},
   "source": [
    "<h1 style=\"color: #fcd805\">Exercise: APIs and `pandas`</h1>\n",
    "\n",
    "We're going to explore a new API, which exposes data about the Nobel Prize.\n",
    "\n",
    "The API documentation is here: [https://app.swaggerhub.com/apis/NobelMedia/NobelMasterData/2.0](https://app.swaggerhub.com/apis/NobelMedia/NobelMasterData/2.0)\n",
    "\n",
    "(the developer Hub is here: [https://www.nobelprize.org/organization/developer-zone-2](https://www.nobelprize.org/organization/developer-zone-2))\n",
    "\n",
    "The url to retrieve information about prizes is [https://api.nobelprize.org/2.1/nobelPrizes](https://api.nobelprize.org/2.1/nobelPrizes).\n",
    "\n",
    "1. Look at the documentation to figure out how to modify the url to get Nobel prizes for a particular year. Construct a url to retrieve prizes from 2019.\n",
    "\n",
    "Call this url using `requests` to get a response."
   ]
  },
  {
   "cell_type": "code",
   "execution_count": 7,
   "id": "751e5530",
   "metadata": {},
   "outputs": [],
   "source": [
    "prize_response = requests.get(\"https://api.nobelprize.org/2.1/nobelPrizes?nobelPrizeYear=2019\")\n",
    "\n",
    "prize_response.raise_for_status()"
   ]
  },
  {
   "cell_type": "markdown",
   "id": "bea24258",
   "metadata": {},
   "source": [
    "2. Convert the response to a Python object. How many prizes were awarded in 2019?\n",
    "\n",
    "_Hint: look at the response and find the right dictionary key to answer the question. If you're not sure, start with the `.keys()` in the dictionary._"
   ]
  },
  {
   "cell_type": "code",
   "execution_count": 8,
   "id": "a3479b7d",
   "metadata": {},
   "outputs": [
    {
     "data": {
      "text/plain": [
       "dict_keys(['nobelPrizes', 'meta', 'links'])"
      ]
     },
     "execution_count": 8,
     "metadata": {},
     "output_type": "execute_result"
    }
   ],
   "source": [
    "prizes_json = prize_response.json()\n",
    "\n",
    "prizes_json.keys()"
   ]
  },
  {
   "cell_type": "code",
   "execution_count": 9,
   "id": "2c6bdb41-4db9-4247-a0e0-2adf5e9fff93",
   "metadata": {},
   "outputs": [
    {
     "data": {
      "text/plain": [
       "{'offset': 0,\n",
       " 'limit': 25,\n",
       " 'nobelPrizeYear': 2019,\n",
       " 'count': 6,\n",
       " 'terms': 'https://www.nobelprize.org/about/terms-of-use-for-api-nobelprize-org-and-data-nobelprize-org/',\n",
       " 'license': 'https://www.nobelprize.org/about/terms-of-use-for-api-nobelprize-org-and-data-nobelprize-org/#licence',\n",
       " 'disclaimer': 'https://www.nobelprize.org/about/terms-of-use-for-api-nobelprize-org-and-data-nobelprize-org/#disclaimer'}"
      ]
     },
     "execution_count": 9,
     "metadata": {},
     "output_type": "execute_result"
    }
   ],
   "source": [
    "prizes_json[\"meta\"]"
   ]
  },
  {
   "cell_type": "code",
   "execution_count": 10,
   "id": "8463a605-d04f-4d8a-aab4-95e555869de5",
   "metadata": {},
   "outputs": [
    {
     "data": {
      "text/plain": [
       "6"
      ]
     },
     "execution_count": 10,
     "metadata": {},
     "output_type": "execute_result"
    }
   ],
   "source": [
    "prizes_json[\"meta\"][\"count\"]"
   ]
  },
  {
   "cell_type": "markdown",
   "id": "dd5a2ba1",
   "metadata": {},
   "source": [
    "3. Find the right dictionary key within the returned result to retrieve the prizes as a list. Convert these to a `pandas` DataFrame.\n",
    "\n",
    "Did you get the same number as before?"
   ]
  },
  {
   "cell_type": "code",
   "execution_count": 11,
   "id": "778c460c",
   "metadata": {},
   "outputs": [
    {
     "name": "stdout",
     "output_type": "stream",
     "text": [
      "(6, 9)\n"
     ]
    },
    {
     "data": {
      "text/html": [
       "<div>\n",
       "<style scoped>\n",
       "    .dataframe tbody tr th:only-of-type {\n",
       "        vertical-align: middle;\n",
       "    }\n",
       "\n",
       "    .dataframe tbody tr th {\n",
       "        vertical-align: top;\n",
       "    }\n",
       "\n",
       "    .dataframe thead th {\n",
       "        text-align: right;\n",
       "    }\n",
       "</style>\n",
       "<table border=\"1\" class=\"dataframe\">\n",
       "  <thead>\n",
       "    <tr style=\"text-align: right;\">\n",
       "      <th></th>\n",
       "      <th>awardYear</th>\n",
       "      <th>category</th>\n",
       "      <th>categoryFullName</th>\n",
       "      <th>dateAwarded</th>\n",
       "      <th>prizeAmount</th>\n",
       "      <th>prizeAmountAdjusted</th>\n",
       "      <th>links</th>\n",
       "      <th>laureates</th>\n",
       "      <th>topMotivation</th>\n",
       "    </tr>\n",
       "  </thead>\n",
       "  <tbody>\n",
       "    <tr>\n",
       "      <th>0</th>\n",
       "      <td>2019</td>\n",
       "      <td>{'en': 'Chemistry', 'no': 'Kjemi', 'se': 'Kemi'}</td>\n",
       "      <td>{'en': 'The Nobel Prize in Chemistry', 'no': '...</td>\n",
       "      <td>2019-10-09</td>\n",
       "      <td>9000000</td>\n",
       "      <td>10013620</td>\n",
       "      <td>[{'rel': 'nobelPrize', 'href': 'https://api.no...</td>\n",
       "      <td>[{'id': '976', 'knownName': {'en': 'John B. Go...</td>\n",
       "      <td>NaN</td>\n",
       "    </tr>\n",
       "    <tr>\n",
       "      <th>1</th>\n",
       "      <td>2019</td>\n",
       "      <td>{'en': 'Economic Sciences', 'no': 'Økonomi', '...</td>\n",
       "      <td>{'en': 'The Sveriges Riksbank Prize in Economi...</td>\n",
       "      <td>2019-10-14</td>\n",
       "      <td>9000000</td>\n",
       "      <td>10013620</td>\n",
       "      <td>[{'rel': 'nobelPrize', 'href': 'https://api.no...</td>\n",
       "      <td>[{'id': '982', 'knownName': {'en': 'Abhijit Ba...</td>\n",
       "      <td>NaN</td>\n",
       "    </tr>\n",
       "    <tr>\n",
       "      <th>2</th>\n",
       "      <td>2019</td>\n",
       "      <td>{'en': 'Literature', 'no': 'Litteratur', 'se':...</td>\n",
       "      <td>{'en': 'The Nobel Prize in Literature', 'no': ...</td>\n",
       "      <td>2019-10-10</td>\n",
       "      <td>9000000</td>\n",
       "      <td>10013620</td>\n",
       "      <td>[{'rel': 'nobelPrize', 'href': 'https://api.no...</td>\n",
       "      <td>[{'id': '980', 'knownName': {'en': 'Peter Hand...</td>\n",
       "      <td>NaN</td>\n",
       "    </tr>\n",
       "    <tr>\n",
       "      <th>3</th>\n",
       "      <td>2019</td>\n",
       "      <td>{'en': 'Peace', 'no': 'Fred', 'se': 'Fred'}</td>\n",
       "      <td>{'en': 'The Nobel Peace Prize', 'no': 'Nobels ...</td>\n",
       "      <td>2019-10-11</td>\n",
       "      <td>9000000</td>\n",
       "      <td>10013620</td>\n",
       "      <td>[{'rel': 'nobelPrize', 'href': 'https://api.no...</td>\n",
       "      <td>[{'id': '981', 'knownName': {'en': 'Abiy Ahmed...</td>\n",
       "      <td>NaN</td>\n",
       "    </tr>\n",
       "    <tr>\n",
       "      <th>4</th>\n",
       "      <td>2019</td>\n",
       "      <td>{'en': 'Physics', 'no': 'Fysikk', 'se': 'Fysik'}</td>\n",
       "      <td>{'en': 'The Nobel Prize in Physics', 'no': 'No...</td>\n",
       "      <td>2019-10-08</td>\n",
       "      <td>9000000</td>\n",
       "      <td>10013620</td>\n",
       "      <td>[{'rel': 'nobelPrize', 'href': 'https://api.no...</td>\n",
       "      <td>[{'id': '973', 'knownName': {'en': 'James Peeb...</td>\n",
       "      <td>{'en': 'for contributions to our understanding...</td>\n",
       "    </tr>\n",
       "  </tbody>\n",
       "</table>\n",
       "</div>"
      ],
      "text/plain": [
       "  awardYear                                           category  \\\n",
       "0      2019   {'en': 'Chemistry', 'no': 'Kjemi', 'se': 'Kemi'}   \n",
       "1      2019  {'en': 'Economic Sciences', 'no': 'Økonomi', '...   \n",
       "2      2019  {'en': 'Literature', 'no': 'Litteratur', 'se':...   \n",
       "3      2019        {'en': 'Peace', 'no': 'Fred', 'se': 'Fred'}   \n",
       "4      2019   {'en': 'Physics', 'no': 'Fysikk', 'se': 'Fysik'}   \n",
       "\n",
       "                                    categoryFullName dateAwarded  prizeAmount  \\\n",
       "0  {'en': 'The Nobel Prize in Chemistry', 'no': '...  2019-10-09      9000000   \n",
       "1  {'en': 'The Sveriges Riksbank Prize in Economi...  2019-10-14      9000000   \n",
       "2  {'en': 'The Nobel Prize in Literature', 'no': ...  2019-10-10      9000000   \n",
       "3  {'en': 'The Nobel Peace Prize', 'no': 'Nobels ...  2019-10-11      9000000   \n",
       "4  {'en': 'The Nobel Prize in Physics', 'no': 'No...  2019-10-08      9000000   \n",
       "\n",
       "   prizeAmountAdjusted                                              links  \\\n",
       "0             10013620  [{'rel': 'nobelPrize', 'href': 'https://api.no...   \n",
       "1             10013620  [{'rel': 'nobelPrize', 'href': 'https://api.no...   \n",
       "2             10013620  [{'rel': 'nobelPrize', 'href': 'https://api.no...   \n",
       "3             10013620  [{'rel': 'nobelPrize', 'href': 'https://api.no...   \n",
       "4             10013620  [{'rel': 'nobelPrize', 'href': 'https://api.no...   \n",
       "\n",
       "                                           laureates  \\\n",
       "0  [{'id': '976', 'knownName': {'en': 'John B. Go...   \n",
       "1  [{'id': '982', 'knownName': {'en': 'Abhijit Ba...   \n",
       "2  [{'id': '980', 'knownName': {'en': 'Peter Hand...   \n",
       "3  [{'id': '981', 'knownName': {'en': 'Abiy Ahmed...   \n",
       "4  [{'id': '973', 'knownName': {'en': 'James Peeb...   \n",
       "\n",
       "                                       topMotivation  \n",
       "0                                                NaN  \n",
       "1                                                NaN  \n",
       "2                                                NaN  \n",
       "3                                                NaN  \n",
       "4  {'en': 'for contributions to our understanding...  "
      ]
     },
     "execution_count": 11,
     "metadata": {},
     "output_type": "execute_result"
    }
   ],
   "source": [
    "import pandas as pd\n",
    "\n",
    "prizes = prizes_json[\"nobelPrizes\"]\n",
    "\n",
    "prize_df = pd.DataFrame(prizes)\n",
    "print(prize_df.shape)\n",
    "prize_df.head()"
   ]
  },
  {
   "cell_type": "markdown",
   "id": "1369f012-ebd6-4f4c-a78c-d9bb52021fce",
   "metadata": {},
   "source": [
    "Time for a research question:\n",
    "\n",
    "### How has the awarded prize amount changed over time?\n",
    "\n",
    "4. First, write a loop to repeat your code above (fetching data from the API and saving the results into a DataFrame) for each year from 1990 to 2024.\n",
    "\n",
    "For each year:\n",
    "\n",
    "- construct the right url for that year\n",
    "- download the results, convert to Python objects, and put the Nobel prize data into a DataFrame\n",
    "- collect all these `pandas` DataFrames into a list\n",
    "\n",
    "At the end of your loop you should have a list of `pandas` DataFrames."
   ]
  },
  {
   "cell_type": "code",
   "execution_count": 12,
   "id": "4b38b2d3-b3f8-4031-8f70-7f15f74823e0",
   "metadata": {
    "scrolled": true
   },
   "outputs": [
    {
     "name": "stdout",
     "output_type": "stream",
     "text": [
      "1990\n",
      "1991\n",
      "1992\n",
      "1993\n",
      "1994\n",
      "1995\n",
      "1996\n",
      "1997\n",
      "1998\n",
      "1999\n",
      "2000\n",
      "2001\n",
      "2002\n",
      "2003\n",
      "2004\n",
      "2005\n",
      "2006\n",
      "2007\n",
      "2008\n",
      "2009\n",
      "2010\n",
      "2011\n",
      "2012\n",
      "2013\n",
      "2014\n",
      "2015\n",
      "2016\n",
      "2017\n",
      "2018\n",
      "2019\n",
      "2020\n",
      "2021\n",
      "2022\n",
      "2023\n",
      "2024\n"
     ]
    }
   ],
   "source": [
    "import time\n",
    "\n",
    "prize_df_list = []\n",
    "\n",
    "for year in range(1990, 2025):\n",
    "    print(year)\n",
    "    prizes = pd.DataFrame(requests.get(f\"https://api.nobelprize.org/2.1/nobelPrizes?nobelPrizeYear={year}\").json()[\"nobelPrizes\"])\n",
    "    \n",
    "    prize_df_list.append(prizes)\n",
    "    \n",
    "    time.sleep(0.5) # a courtesy :-)"
   ]
  },
  {
   "cell_type": "markdown",
   "id": "7958a324",
   "metadata": {},
   "source": [
    "5. Use the `.concat()` method to combine your DataFrames into a single DataFrame.\n",
    "\n",
    "How many prizes do you have in your data?"
   ]
  },
  {
   "cell_type": "code",
   "execution_count": 13,
   "id": "996c8fe6",
   "metadata": {},
   "outputs": [
    {
     "name": "stdout",
     "output_type": "stream",
     "text": [
      "(210, 9)\n"
     ]
    },
    {
     "data": {
      "text/html": [
       "<div>\n",
       "<style scoped>\n",
       "    .dataframe tbody tr th:only-of-type {\n",
       "        vertical-align: middle;\n",
       "    }\n",
       "\n",
       "    .dataframe tbody tr th {\n",
       "        vertical-align: top;\n",
       "    }\n",
       "\n",
       "    .dataframe thead th {\n",
       "        text-align: right;\n",
       "    }\n",
       "</style>\n",
       "<table border=\"1\" class=\"dataframe\">\n",
       "  <thead>\n",
       "    <tr style=\"text-align: right;\">\n",
       "      <th></th>\n",
       "      <th>awardYear</th>\n",
       "      <th>category</th>\n",
       "      <th>categoryFullName</th>\n",
       "      <th>dateAwarded</th>\n",
       "      <th>prizeAmount</th>\n",
       "      <th>prizeAmountAdjusted</th>\n",
       "      <th>links</th>\n",
       "      <th>laureates</th>\n",
       "      <th>topMotivation</th>\n",
       "    </tr>\n",
       "  </thead>\n",
       "  <tbody>\n",
       "    <tr>\n",
       "      <th>0</th>\n",
       "      <td>1990</td>\n",
       "      <td>{'en': 'Chemistry', 'no': 'Kjemi', 'se': 'Kemi'}</td>\n",
       "      <td>{'en': 'The Nobel Prize in Chemistry', 'no': '...</td>\n",
       "      <td>1990-10-17</td>\n",
       "      <td>4000000</td>\n",
       "      <td>7169620</td>\n",
       "      <td>[{'rel': 'nobelPrize', 'href': 'https://api.no...</td>\n",
       "      <td>[{'id': '275', 'knownName': {'en': 'Elias Jame...</td>\n",
       "      <td>NaN</td>\n",
       "    </tr>\n",
       "    <tr>\n",
       "      <th>1</th>\n",
       "      <td>1990</td>\n",
       "      <td>{'en': 'Economic Sciences', 'no': 'Økonomi', '...</td>\n",
       "      <td>{'en': 'The Sveriges Riksbank Prize in Economi...</td>\n",
       "      <td>1990-10-16</td>\n",
       "      <td>4000000</td>\n",
       "      <td>7169620</td>\n",
       "      <td>[{'rel': 'nobelPrize', 'href': 'https://api.no...</td>\n",
       "      <td>[{'id': '704', 'knownName': {'en': 'Harry M. M...</td>\n",
       "      <td>NaN</td>\n",
       "    </tr>\n",
       "    <tr>\n",
       "      <th>2</th>\n",
       "      <td>1990</td>\n",
       "      <td>{'en': 'Literature', 'no': 'Litteratur', 'se':...</td>\n",
       "      <td>{'en': 'The Nobel Prize in Literature', 'no': ...</td>\n",
       "      <td>1990-10-11</td>\n",
       "      <td>4000000</td>\n",
       "      <td>7169620</td>\n",
       "      <td>[{'rel': 'nobelPrize', 'href': 'https://api.no...</td>\n",
       "      <td>[{'id': '667', 'knownName': {'en': 'Octavio Pa...</td>\n",
       "      <td>NaN</td>\n",
       "    </tr>\n",
       "    <tr>\n",
       "      <th>3</th>\n",
       "      <td>1990</td>\n",
       "      <td>{'en': 'Peace', 'no': 'Fred', 'se': 'Fred'}</td>\n",
       "      <td>{'en': 'The Nobel Peace Prize', 'no': 'Nobels ...</td>\n",
       "      <td>1990-10-15</td>\n",
       "      <td>4000000</td>\n",
       "      <td>7169620</td>\n",
       "      <td>[{'rel': 'nobelPrize', 'href': 'https://api.no...</td>\n",
       "      <td>[{'id': '552', 'knownName': {'en': 'Mikhail Go...</td>\n",
       "      <td>NaN</td>\n",
       "    </tr>\n",
       "    <tr>\n",
       "      <th>4</th>\n",
       "      <td>1990</td>\n",
       "      <td>{'en': 'Physics', 'no': 'Fysikk', 'se': 'Fysik'}</td>\n",
       "      <td>{'en': 'The Nobel Prize in Physics', 'no': 'No...</td>\n",
       "      <td>1990-10-17</td>\n",
       "      <td>4000000</td>\n",
       "      <td>7169620</td>\n",
       "      <td>[{'rel': 'nobelPrize', 'href': 'https://api.no...</td>\n",
       "      <td>[{'id': '138', 'knownName': {'en': 'Jerome I. ...</td>\n",
       "      <td>NaN</td>\n",
       "    </tr>\n",
       "  </tbody>\n",
       "</table>\n",
       "</div>"
      ],
      "text/plain": [
       "  awardYear                                           category  \\\n",
       "0      1990   {'en': 'Chemistry', 'no': 'Kjemi', 'se': 'Kemi'}   \n",
       "1      1990  {'en': 'Economic Sciences', 'no': 'Økonomi', '...   \n",
       "2      1990  {'en': 'Literature', 'no': 'Litteratur', 'se':...   \n",
       "3      1990        {'en': 'Peace', 'no': 'Fred', 'se': 'Fred'}   \n",
       "4      1990   {'en': 'Physics', 'no': 'Fysikk', 'se': 'Fysik'}   \n",
       "\n",
       "                                    categoryFullName dateAwarded  prizeAmount  \\\n",
       "0  {'en': 'The Nobel Prize in Chemistry', 'no': '...  1990-10-17      4000000   \n",
       "1  {'en': 'The Sveriges Riksbank Prize in Economi...  1990-10-16      4000000   \n",
       "2  {'en': 'The Nobel Prize in Literature', 'no': ...  1990-10-11      4000000   \n",
       "3  {'en': 'The Nobel Peace Prize', 'no': 'Nobels ...  1990-10-15      4000000   \n",
       "4  {'en': 'The Nobel Prize in Physics', 'no': 'No...  1990-10-17      4000000   \n",
       "\n",
       "   prizeAmountAdjusted                                              links  \\\n",
       "0              7169620  [{'rel': 'nobelPrize', 'href': 'https://api.no...   \n",
       "1              7169620  [{'rel': 'nobelPrize', 'href': 'https://api.no...   \n",
       "2              7169620  [{'rel': 'nobelPrize', 'href': 'https://api.no...   \n",
       "3              7169620  [{'rel': 'nobelPrize', 'href': 'https://api.no...   \n",
       "4              7169620  [{'rel': 'nobelPrize', 'href': 'https://api.no...   \n",
       "\n",
       "                                           laureates topMotivation  \n",
       "0  [{'id': '275', 'knownName': {'en': 'Elias Jame...           NaN  \n",
       "1  [{'id': '704', 'knownName': {'en': 'Harry M. M...           NaN  \n",
       "2  [{'id': '667', 'knownName': {'en': 'Octavio Pa...           NaN  \n",
       "3  [{'id': '552', 'knownName': {'en': 'Mikhail Go...           NaN  \n",
       "4  [{'id': '138', 'knownName': {'en': 'Jerome I. ...           NaN  "
      ]
     },
     "execution_count": 13,
     "metadata": {},
     "output_type": "execute_result"
    }
   ],
   "source": [
    "prizes_all = pd.concat(prize_df_list, ignore_index=True)\n",
    "print(prizes_all.shape)\n",
    "prizes_all.head()"
   ]
  },
  {
   "cell_type": "markdown",
   "id": "1ea90e68-4356-4076-91c2-06f98d8a3929",
   "metadata": {},
   "source": [
    "6. For each year, calculate the average prize amount.\n",
    "\n",
    "Plot the result as a line chart.\n",
    "\n",
    "What do you conclude?"
   ]
  },
  {
   "cell_type": "code",
   "execution_count": 14,
   "id": "0e686914-0a06-4bd2-99b4-2d9cfb1ea75d",
   "metadata": {},
   "outputs": [
    {
     "data": {
      "image/png": "[encoded data removed]",
      "text/plain": [
       "<Figure size 640x480 with 1 Axes>"
      ]
     },
     "metadata": {},
     "output_type": "display_data"
    }
   ],
   "source": [
    "_ = (\n",
    "    prizes_all\n",
    "    .groupby(\"awardYear\")\n",
    "    [[\"prizeAmount\"]]\n",
    "    .mean()\n",
    "    .plot()\n",
    ")"
   ]
  },
  {
   "cell_type": "markdown",
   "id": "ae6984ed-8057-4306-9605-5fc99fb5089d",
   "metadata": {},
   "source": [
    "7. Now plot the amount *adjusted for inflation* (there is a separate column for this).\n",
    "\n",
    "What do you notice?"
   ]
  },
  {
   "cell_type": "code",
   "execution_count": 15,
   "id": "11d47928-c946-41c5-aff0-ec07c3d7af9f",
   "metadata": {},
   "outputs": [
    {
     "data": {
      "image/png": "[encoded data removed]",
      "text/plain": [
       "<Figure size 640x480 with 1 Axes>"
      ]
     },
     "metadata": {},
     "output_type": "display_data"
    }
   ],
   "source": [
    "_ = (\n",
    "    prizes_all\n",
    "    .groupby(\"awardYear\")\n",
    "    [[\"prizeAmountAdjusted\"]]\n",
    "    .mean()\n",
    "    .plot()\n",
    ")"
   ]
  },
  {
   "cell_type": "markdown",
   "id": "0b9af2c0-daa5-4212-bfc0-784f59f73414",
   "metadata": {},
   "source": [
    "Note: by including both columns at once you can plot both lines!"
   ]
  },
  {
   "cell_type": "code",
   "execution_count": 24,
   "id": "9c897bb9-4f6d-497a-91ed-46b5690f438a",
   "metadata": {},
   "outputs": [
    {
     "data": {
      "image/png": "[encoded data removed]",
      "text/plain": [
       "<Figure size 640x480 with 1 Axes>"
      ]
     },
     "metadata": {},
     "output_type": "display_data"
    }
   ],
   "source": [
    "_ = (\n",
    "    prizes_all\n",
    "    .groupby(\"awardYear\")\n",
    "    [[\"prizeAmount\", \"prizeAmountAdjusted\"]]\n",
    "    .mean()\n",
    "    .plot()\n",
    ")"
   ]
  },
  {
   "cell_type": "markdown",
   "id": "e6d9adaf-67a1-4efd-839e-896acdef6691",
   "metadata": {},
   "source": [
    "### *BONUS*\n",
    "\n",
    "Another research question:\n",
    "\n",
    "#### Which Nobel prizes are typically awarded to *multiple* people?\n",
    "\n",
    "8. First, using the `laureates` column, create a new column containing a count of how many people won a given prize in a given year (the items in `laureates` should be a list, count the items in the list and store the value as a new column)."
   ]
  },
  {
   "cell_type": "code",
   "execution_count": 16,
   "id": "f981a076-9dfb-4106-9f6f-c8d638858846",
   "metadata": {},
   "outputs": [
    {
     "data": {
      "text/html": [
       "<div>\n",
       "<style scoped>\n",
       "    .dataframe tbody tr th:only-of-type {\n",
       "        vertical-align: middle;\n",
       "    }\n",
       "\n",
       "    .dataframe tbody tr th {\n",
       "        vertical-align: top;\n",
       "    }\n",
       "\n",
       "    .dataframe thead th {\n",
       "        text-align: right;\n",
       "    }\n",
       "</style>\n",
       "<table border=\"1\" class=\"dataframe\">\n",
       "  <thead>\n",
       "    <tr style=\"text-align: right;\">\n",
       "      <th></th>\n",
       "      <th>awardYear</th>\n",
       "      <th>category</th>\n",
       "      <th>categoryFullName</th>\n",
       "      <th>dateAwarded</th>\n",
       "      <th>prizeAmount</th>\n",
       "      <th>prizeAmountAdjusted</th>\n",
       "      <th>links</th>\n",
       "      <th>laureates</th>\n",
       "      <th>topMotivation</th>\n",
       "      <th>n_laureates</th>\n",
       "    </tr>\n",
       "  </thead>\n",
       "  <tbody>\n",
       "    <tr>\n",
       "      <th>0</th>\n",
       "      <td>1990</td>\n",
       "      <td>{'en': 'Chemistry', 'no': 'Kjemi', 'se': 'Kemi'}</td>\n",
       "      <td>{'en': 'The Nobel Prize in Chemistry', 'no': '...</td>\n",
       "      <td>1990-10-17</td>\n",
       "      <td>4000000</td>\n",
       "      <td>7169620</td>\n",
       "      <td>[{'rel': 'nobelPrize', 'href': 'https://api.no...</td>\n",
       "      <td>[{'id': '275', 'knownName': {'en': 'Elias Jame...</td>\n",
       "      <td>NaN</td>\n",
       "      <td>1</td>\n",
       "    </tr>\n",
       "    <tr>\n",
       "      <th>1</th>\n",
       "      <td>1990</td>\n",
       "      <td>{'en': 'Economic Sciences', 'no': 'Økonomi', '...</td>\n",
       "      <td>{'en': 'The Sveriges Riksbank Prize in Economi...</td>\n",
       "      <td>1990-10-16</td>\n",
       "      <td>4000000</td>\n",
       "      <td>7169620</td>\n",
       "      <td>[{'rel': 'nobelPrize', 'href': 'https://api.no...</td>\n",
       "      <td>[{'id': '704', 'knownName': {'en': 'Harry M. M...</td>\n",
       "      <td>NaN</td>\n",
       "      <td>3</td>\n",
       "    </tr>\n",
       "    <tr>\n",
       "      <th>2</th>\n",
       "      <td>1990</td>\n",
       "      <td>{'en': 'Literature', 'no': 'Litteratur', 'se':...</td>\n",
       "      <td>{'en': 'The Nobel Prize in Literature', 'no': ...</td>\n",
       "      <td>1990-10-11</td>\n",
       "      <td>4000000</td>\n",
       "      <td>7169620</td>\n",
       "      <td>[{'rel': 'nobelPrize', 'href': 'https://api.no...</td>\n",
       "      <td>[{'id': '667', 'knownName': {'en': 'Octavio Pa...</td>\n",
       "      <td>NaN</td>\n",
       "      <td>1</td>\n",
       "    </tr>\n",
       "    <tr>\n",
       "      <th>3</th>\n",
       "      <td>1990</td>\n",
       "      <td>{'en': 'Peace', 'no': 'Fred', 'se': 'Fred'}</td>\n",
       "      <td>{'en': 'The Nobel Peace Prize', 'no': 'Nobels ...</td>\n",
       "      <td>1990-10-15</td>\n",
       "      <td>4000000</td>\n",
       "      <td>7169620</td>\n",
       "      <td>[{'rel': 'nobelPrize', 'href': 'https://api.no...</td>\n",
       "      <td>[{'id': '552', 'knownName': {'en': 'Mikhail Go...</td>\n",
       "      <td>NaN</td>\n",
       "      <td>1</td>\n",
       "    </tr>\n",
       "    <tr>\n",
       "      <th>4</th>\n",
       "      <td>1990</td>\n",
       "      <td>{'en': 'Physics', 'no': 'Fysikk', 'se': 'Fysik'}</td>\n",
       "      <td>{'en': 'The Nobel Prize in Physics', 'no': 'No...</td>\n",
       "      <td>1990-10-17</td>\n",
       "      <td>4000000</td>\n",
       "      <td>7169620</td>\n",
       "      <td>[{'rel': 'nobelPrize', 'href': 'https://api.no...</td>\n",
       "      <td>[{'id': '138', 'knownName': {'en': 'Jerome I. ...</td>\n",
       "      <td>NaN</td>\n",
       "      <td>3</td>\n",
       "    </tr>\n",
       "  </tbody>\n",
       "</table>\n",
       "</div>"
      ],
      "text/plain": [
       "  awardYear                                           category  \\\n",
       "0      1990   {'en': 'Chemistry', 'no': 'Kjemi', 'se': 'Kemi'}   \n",
       "1      1990  {'en': 'Economic Sciences', 'no': 'Økonomi', '...   \n",
       "2      1990  {'en': 'Literature', 'no': 'Litteratur', 'se':...   \n",
       "3      1990        {'en': 'Peace', 'no': 'Fred', 'se': 'Fred'}   \n",
       "4      1990   {'en': 'Physics', 'no': 'Fysikk', 'se': 'Fysik'}   \n",
       "\n",
       "                                    categoryFullName dateAwarded  prizeAmount  \\\n",
       "0  {'en': 'The Nobel Prize in Chemistry', 'no': '...  1990-10-17      4000000   \n",
       "1  {'en': 'The Sveriges Riksbank Prize in Economi...  1990-10-16      4000000   \n",
       "2  {'en': 'The Nobel Prize in Literature', 'no': ...  1990-10-11      4000000   \n",
       "3  {'en': 'The Nobel Peace Prize', 'no': 'Nobels ...  1990-10-15      4000000   \n",
       "4  {'en': 'The Nobel Prize in Physics', 'no': 'No...  1990-10-17      4000000   \n",
       "\n",
       "   prizeAmountAdjusted                                              links  \\\n",
       "0              7169620  [{'rel': 'nobelPrize', 'href': 'https://api.no...   \n",
       "1              7169620  [{'rel': 'nobelPrize', 'href': 'https://api.no...   \n",
       "2              7169620  [{'rel': 'nobelPrize', 'href': 'https://api.no...   \n",
       "3              7169620  [{'rel': 'nobelPrize', 'href': 'https://api.no...   \n",
       "4              7169620  [{'rel': 'nobelPrize', 'href': 'https://api.no...   \n",
       "\n",
       "                                           laureates topMotivation  \\\n",
       "0  [{'id': '275', 'knownName': {'en': 'Elias Jame...           NaN   \n",
       "1  [{'id': '704', 'knownName': {'en': 'Harry M. M...           NaN   \n",
       "2  [{'id': '667', 'knownName': {'en': 'Octavio Pa...           NaN   \n",
       "3  [{'id': '552', 'knownName': {'en': 'Mikhail Go...           NaN   \n",
       "4  [{'id': '138', 'knownName': {'en': 'Jerome I. ...           NaN   \n",
       "\n",
       "   n_laureates  \n",
       "0            1  \n",
       "1            3  \n",
       "2            1  \n",
       "3            1  \n",
       "4            3  "
      ]
     },
     "execution_count": 16,
     "metadata": {},
     "output_type": "execute_result"
    }
   ],
   "source": [
    "prizes_all[\"n_laureates\"] = prizes_all[\"laureates\"].apply(len)\n",
    "prizes_all.head()"
   ]
  },
  {
   "cell_type": "markdown",
   "id": "cfe5cf29-5a18-4110-89cf-fb7ba0c46577",
   "metadata": {},
   "source": [
    "9. Each record contains more information in a nested format. Expand the `category` column to enhance your data with the English name of the prize category (e.g. peace, physics etc.)."
   ]
  },
  {
   "cell_type": "code",
   "execution_count": 17,
   "id": "6940a517-1331-46e2-bac5-0a1b34db2797",
   "metadata": {},
   "outputs": [
    {
     "data": {
      "text/html": [
       "<div>\n",
       "<style scoped>\n",
       "    .dataframe tbody tr th:only-of-type {\n",
       "        vertical-align: middle;\n",
       "    }\n",
       "\n",
       "    .dataframe tbody tr th {\n",
       "        vertical-align: top;\n",
       "    }\n",
       "\n",
       "    .dataframe thead th {\n",
       "        text-align: right;\n",
       "    }\n",
       "</style>\n",
       "<table border=\"1\" class=\"dataframe\">\n",
       "  <thead>\n",
       "    <tr style=\"text-align: right;\">\n",
       "      <th></th>\n",
       "      <th>awardYear</th>\n",
       "      <th>category</th>\n",
       "      <th>categoryFullName</th>\n",
       "      <th>dateAwarded</th>\n",
       "      <th>prizeAmount</th>\n",
       "      <th>prizeAmountAdjusted</th>\n",
       "      <th>links</th>\n",
       "      <th>laureates</th>\n",
       "      <th>topMotivation</th>\n",
       "      <th>n_laureates</th>\n",
       "      <th>category_name</th>\n",
       "    </tr>\n",
       "  </thead>\n",
       "  <tbody>\n",
       "    <tr>\n",
       "      <th>0</th>\n",
       "      <td>1990</td>\n",
       "      <td>{'en': 'Chemistry', 'no': 'Kjemi', 'se': 'Kemi'}</td>\n",
       "      <td>{'en': 'The Nobel Prize in Chemistry', 'no': '...</td>\n",
       "      <td>1990-10-17</td>\n",
       "      <td>4000000</td>\n",
       "      <td>7169620</td>\n",
       "      <td>[{'rel': 'nobelPrize', 'href': 'https://api.no...</td>\n",
       "      <td>[{'id': '275', 'knownName': {'en': 'Elias Jame...</td>\n",
       "      <td>NaN</td>\n",
       "      <td>1</td>\n",
       "      <td>Chemistry</td>\n",
       "    </tr>\n",
       "    <tr>\n",
       "      <th>1</th>\n",
       "      <td>1990</td>\n",
       "      <td>{'en': 'Economic Sciences', 'no': 'Økonomi', '...</td>\n",
       "      <td>{'en': 'The Sveriges Riksbank Prize in Economi...</td>\n",
       "      <td>1990-10-16</td>\n",
       "      <td>4000000</td>\n",
       "      <td>7169620</td>\n",
       "      <td>[{'rel': 'nobelPrize', 'href': 'https://api.no...</td>\n",
       "      <td>[{'id': '704', 'knownName': {'en': 'Harry M. M...</td>\n",
       "      <td>NaN</td>\n",
       "      <td>3</td>\n",
       "      <td>Economic Sciences</td>\n",
       "    </tr>\n",
       "    <tr>\n",
       "      <th>2</th>\n",
       "      <td>1990</td>\n",
       "      <td>{'en': 'Literature', 'no': 'Litteratur', 'se':...</td>\n",
       "      <td>{'en': 'The Nobel Prize in Literature', 'no': ...</td>\n",
       "      <td>1990-10-11</td>\n",
       "      <td>4000000</td>\n",
       "      <td>7169620</td>\n",
       "      <td>[{'rel': 'nobelPrize', 'href': 'https://api.no...</td>\n",
       "      <td>[{'id': '667', 'knownName': {'en': 'Octavio Pa...</td>\n",
       "      <td>NaN</td>\n",
       "      <td>1</td>\n",
       "      <td>Literature</td>\n",
       "    </tr>\n",
       "    <tr>\n",
       "      <th>3</th>\n",
       "      <td>1990</td>\n",
       "      <td>{'en': 'Peace', 'no': 'Fred', 'se': 'Fred'}</td>\n",
       "      <td>{'en': 'The Nobel Peace Prize', 'no': 'Nobels ...</td>\n",
       "      <td>1990-10-15</td>\n",
       "      <td>4000000</td>\n",
       "      <td>7169620</td>\n",
       "      <td>[{'rel': 'nobelPrize', 'href': 'https://api.no...</td>\n",
       "      <td>[{'id': '552', 'knownName': {'en': 'Mikhail Go...</td>\n",
       "      <td>NaN</td>\n",
       "      <td>1</td>\n",
       "      <td>Peace</td>\n",
       "    </tr>\n",
       "    <tr>\n",
       "      <th>4</th>\n",
       "      <td>1990</td>\n",
       "      <td>{'en': 'Physics', 'no': 'Fysikk', 'se': 'Fysik'}</td>\n",
       "      <td>{'en': 'The Nobel Prize in Physics', 'no': 'No...</td>\n",
       "      <td>1990-10-17</td>\n",
       "      <td>4000000</td>\n",
       "      <td>7169620</td>\n",
       "      <td>[{'rel': 'nobelPrize', 'href': 'https://api.no...</td>\n",
       "      <td>[{'id': '138', 'knownName': {'en': 'Jerome I. ...</td>\n",
       "      <td>NaN</td>\n",
       "      <td>3</td>\n",
       "      <td>Physics</td>\n",
       "    </tr>\n",
       "  </tbody>\n",
       "</table>\n",
       "</div>"
      ],
      "text/plain": [
       "  awardYear                                           category  \\\n",
       "0      1990   {'en': 'Chemistry', 'no': 'Kjemi', 'se': 'Kemi'}   \n",
       "1      1990  {'en': 'Economic Sciences', 'no': 'Økonomi', '...   \n",
       "2      1990  {'en': 'Literature', 'no': 'Litteratur', 'se':...   \n",
       "3      1990        {'en': 'Peace', 'no': 'Fred', 'se': 'Fred'}   \n",
       "4      1990   {'en': 'Physics', 'no': 'Fysikk', 'se': 'Fysik'}   \n",
       "\n",
       "                                    categoryFullName dateAwarded  prizeAmount  \\\n",
       "0  {'en': 'The Nobel Prize in Chemistry', 'no': '...  1990-10-17      4000000   \n",
       "1  {'en': 'The Sveriges Riksbank Prize in Economi...  1990-10-16      4000000   \n",
       "2  {'en': 'The Nobel Prize in Literature', 'no': ...  1990-10-11      4000000   \n",
       "3  {'en': 'The Nobel Peace Prize', 'no': 'Nobels ...  1990-10-15      4000000   \n",
       "4  {'en': 'The Nobel Prize in Physics', 'no': 'No...  1990-10-17      4000000   \n",
       "\n",
       "   prizeAmountAdjusted                                              links  \\\n",
       "0              7169620  [{'rel': 'nobelPrize', 'href': 'https://api.no...   \n",
       "1              7169620  [{'rel': 'nobelPrize', 'href': 'https://api.no...   \n",
       "2              7169620  [{'rel': 'nobelPrize', 'href': 'https://api.no...   \n",
       "3              7169620  [{'rel': 'nobelPrize', 'href': 'https://api.no...   \n",
       "4              7169620  [{'rel': 'nobelPrize', 'href': 'https://api.no...   \n",
       "\n",
       "                                           laureates topMotivation  \\\n",
       "0  [{'id': '275', 'knownName': {'en': 'Elias Jame...           NaN   \n",
       "1  [{'id': '704', 'knownName': {'en': 'Harry M. M...           NaN   \n",
       "2  [{'id': '667', 'knownName': {'en': 'Octavio Pa...           NaN   \n",
       "3  [{'id': '552', 'knownName': {'en': 'Mikhail Go...           NaN   \n",
       "4  [{'id': '138', 'knownName': {'en': 'Jerome I. ...           NaN   \n",
       "\n",
       "   n_laureates      category_name  \n",
       "0            1          Chemistry  \n",
       "1            3  Economic Sciences  \n",
       "2            1         Literature  \n",
       "3            1              Peace  \n",
       "4            3            Physics  "
      ]
     },
     "execution_count": 17,
     "metadata": {},
     "output_type": "execute_result"
    }
   ],
   "source": [
    "prizes_all[\"category_name\"] = pd.json_normalize(prizes_all[\"category\"])[\"en\"]\n",
    "prizes_all.head()"
   ]
  },
  {
   "cell_type": "markdown",
   "id": "c6b27287-8260-4a50-b33a-7edd6e1e0d34",
   "metadata": {},
   "source": [
    "10. Now calculate the average number of laureates per prize category.\n",
    "\n",
    "Plot the results as a bar chart.\n",
    "\n",
    "What do you conclude?"
   ]
  },
  {
   "cell_type": "code",
   "execution_count": 18,
   "id": "0e9f8d33-c1dc-4c49-b0dc-b3bbcd9de9f2",
   "metadata": {},
   "outputs": [
    {
     "data": {
      "image/png": "[encoded data removed]",
      "text/plain": [
       "<Figure size 640x480 with 1 Axes>"
      ]
     },
     "metadata": {},
     "output_type": "display_data"
    }
   ],
   "source": [
    "_ = (\n",
    "    prizes_all\n",
    "    .groupby(\"category_name\")\n",
    "    [\"n_laureates\"]\n",
    "    .mean()\n",
    "    .sort_values()\n",
    "    .plot.barh()\n",
    ")"
   ]
  },
  {
   "cell_type": "markdown",
   "id": "44869ecc-51f1-4d4a-9128-1a134beea76a",
   "metadata": {},
   "source": [
    "Looks like science is more of a team sport than peace or literature!"
   ]
  },
  {
   "cell_type": "markdown",
   "id": "5c4822b4",
   "metadata": {},
   "source": [
    "<h1 style=\"color: #fcd805\">Exercise: web scraping</h1>\n",
    "\n",
    "Your turn to scrape some data from the bookshop!\n",
    "\n",
    "We're going to extract all the prices from the page and calculate the average book price.\n",
    "\n",
    "1. Inspect the web page. What makes each book price element unique?\n",
    "\n",
    "_Hint: right-click and click Inspect to view the HTML behind an element on the page._"
   ]
  },
  {
   "cell_type": "markdown",
   "id": "4cc87885",
   "metadata": {},
   "source": [
    "_Every price element is inside a `<p>` tag with class \"price_color\"_"
   ]
  },
  {
   "cell_type": "markdown",
   "id": "2a7296c5",
   "metadata": {},
   "source": [
    "2. Use `BeautifulSoup` to select all the elements that show a book's price."
   ]
  },
  {
   "cell_type": "code",
   "execution_count": 19,
   "id": "a31ebb15",
   "metadata": {
    "scrolled": true
   },
   "outputs": [
    {
     "data": {
      "text/plain": [
       "[<p class=\"price_color\">Â£51.77</p>,\n",
       " <p class=\"price_color\">Â£53.74</p>,\n",
       " <p class=\"price_color\">Â£50.10</p>,\n",
       " <p class=\"price_color\">Â£47.82</p>,\n",
       " <p class=\"price_color\">Â£54.23</p>,\n",
       " <p class=\"price_color\">Â£22.65</p>,\n",
       " <p class=\"price_color\">Â£33.34</p>,\n",
       " <p class=\"price_color\">Â£17.93</p>,\n",
       " <p class=\"price_color\">Â£22.60</p>,\n",
       " <p class=\"price_color\">Â£52.15</p>,\n",
       " <p class=\"price_color\">Â£13.99</p>,\n",
       " <p class=\"price_color\">Â£20.66</p>,\n",
       " <p class=\"price_color\">Â£17.46</p>,\n",
       " <p class=\"price_color\">Â£52.29</p>,\n",
       " <p class=\"price_color\">Â£35.02</p>,\n",
       " <p class=\"price_color\">Â£57.25</p>,\n",
       " <p class=\"price_color\">Â£23.88</p>,\n",
       " <p class=\"price_color\">Â£37.59</p>,\n",
       " <p class=\"price_color\">Â£51.33</p>,\n",
       " <p class=\"price_color\">Â£45.17</p>]"
      ]
     },
     "execution_count": 19,
     "metadata": {},
     "output_type": "execute_result"
    }
   ],
   "source": [
    "from bs4 import BeautifulSoup\n",
    "\n",
    "bookstore_response = requests.get(\"http://books.toscrape.com/\")\n",
    "\n",
    "bookstore_response.raise_for_status()\n",
    "\n",
    "soup = BeautifulSoup(bookstore_response.text, \"html.parser\")\n",
    "\n",
    "price_tags = soup.select(\"p.price_color\")\n",
    "price_tags"
   ]
  },
  {
   "cell_type": "markdown",
   "id": "1b03b2f9",
   "metadata": {},
   "source": [
    "3. Extract only the displayed text from these elements into a list.\n",
    "\n",
    "You should end up with a list of strings."
   ]
  },
  {
   "cell_type": "code",
   "execution_count": 20,
   "id": "c3656bd5",
   "metadata": {},
   "outputs": [
    {
     "data": {
      "text/plain": [
       "['Â£51.77',\n",
       " 'Â£53.74',\n",
       " 'Â£50.10',\n",
       " 'Â£47.82',\n",
       " 'Â£54.23',\n",
       " 'Â£22.65',\n",
       " 'Â£33.34',\n",
       " 'Â£17.93',\n",
       " 'Â£22.60',\n",
       " 'Â£52.15',\n",
       " 'Â£13.99',\n",
       " 'Â£20.66',\n",
       " 'Â£17.46',\n",
       " 'Â£52.29',\n",
       " 'Â£35.02',\n",
       " 'Â£57.25',\n",
       " 'Â£23.88',\n",
       " 'Â£37.59',\n",
       " 'Â£51.33',\n",
       " 'Â£45.17']"
      ]
     },
     "execution_count": 20,
     "metadata": {},
     "output_type": "execute_result"
    }
   ],
   "source": [
    "prices = [tag.text for tag in price_tags]\n",
    "prices"
   ]
  },
  {
   "cell_type": "markdown",
   "id": "a340be02",
   "metadata": {},
   "source": [
    "4. Create a `pandas` `Series` from this list of strings by using `pd.Series`."
   ]
  },
  {
   "cell_type": "code",
   "execution_count": 21,
   "id": "8574a60c",
   "metadata": {},
   "outputs": [],
   "source": [
    "price_series = pd.Series(prices)"
   ]
  },
  {
   "cell_type": "markdown",
   "id": "ef1f02e5",
   "metadata": {},
   "source": [
    "5. Using your `pandas` knowledge, clean up these strings so they are just numeric prices, and convert the `Series` to be a numeric type."
   ]
  },
  {
   "cell_type": "code",
   "execution_count": 22,
   "id": "8a98755d",
   "metadata": {},
   "outputs": [
    {
     "data": {
      "text/plain": [
       "0     51.77\n",
       "1     53.74\n",
       "2     50.10\n",
       "3     47.82\n",
       "4     54.23\n",
       "5     22.65\n",
       "6     33.34\n",
       "7     17.93\n",
       "8     22.60\n",
       "9     52.15\n",
       "10    13.99\n",
       "11    20.66\n",
       "12    17.46\n",
       "13    52.29\n",
       "14    35.02\n",
       "15    57.25\n",
       "16    23.88\n",
       "17    37.59\n",
       "18    51.33\n",
       "19    45.17\n",
       "dtype: float64"
      ]
     },
     "execution_count": 22,
     "metadata": {},
     "output_type": "execute_result"
    }
   ],
   "source": [
    "price_series = price_series.str[2:].astype(float)\n",
    "price_series"
   ]
  },
  {
   "cell_type": "markdown",
   "id": "72d0cf52",
   "metadata": {},
   "source": [
    "6. Now calculate the average price of books on the web page."
   ]
  },
  {
   "cell_type": "code",
   "execution_count": 23,
   "id": "fb77ac85",
   "metadata": {},
   "outputs": [
    {
     "name": "stdout",
     "output_type": "stream",
     "text": [
      "38.048500000000004 41.38\n"
     ]
    }
   ],
   "source": [
    "print(price_series.mean(), price_series.median())"
   ]
  }
 ],
 "metadata": {
  "kernelspec": {
   "display_name": "Python 3 (ipykernel)",
   "language": "python",
   "name": "python3"
  },
  "language_info": {
   "codemirror_mode": {
    "name": "ipython",
    "version": 3
   },
   "file_extension": ".py",
   "mimetype": "text/x-python",
   "name": "python",
   "nbconvert_exporter": "python",
   "pygments_lexer": "ipython3",
   "version": "3.12.7"
  }
 },
 "nbformat": 4,
 "nbformat_minor": 5
}
